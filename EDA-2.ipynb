{
 "cells": [
  {
   "cell_type": "code",
   "execution_count": 1,
   "id": "43ce9662",
   "metadata": {},
   "outputs": [
    {
     "data": {
      "text/html": [
       "<style>.container { width:88% !important; }</style>"
      ],
      "text/plain": [
       "<IPython.core.display.HTML object>"
      ]
     },
     "metadata": {},
     "output_type": "display_data"
    }
   ],
   "source": [
    "# Import the Libraries.\n",
    "import numpy as np\n",
    "import pandas as pd\n",
    "import matplotlib.pyplot as plt\n",
    "import seaborn as sns\n",
    "import warnings\n",
    "warnings.filterwarnings('ignore')\n",
    "# Visualizing Charts.\n",
    "plt.rcParams['figure.figsize']=[15,6]\n",
    "\n",
    "from IPython.display import display, HTML                                             ## Increasing width of notebook.\n",
    "display(HTML(\"<style>.container { width:88% !important; }</style>\"))"
   ]
  },
  {
   "cell_type": "code",
   "execution_count": 2,
   "id": "890cfb37",
   "metadata": {},
   "outputs": [],
   "source": [
    "# Import the data.\n",
    "sales = pd.read_csv('train_v9rqX0R.csv')"
   ]
  },
  {
   "cell_type": "code",
   "execution_count": 3,
   "id": "51c3127c",
   "metadata": {},
   "outputs": [
    {
     "data": {
      "text/plain": [
       "Item_Weight    1463\n",
       "Outlet_Size    2410\n",
       "dtype: int64"
      ]
     },
     "execution_count": 3,
     "metadata": {},
     "output_type": "execute_result"
    }
   ],
   "source": [
    "# Missing Values.\n",
    "sales.isnull().sum()[sales.isnull().sum()!=0]"
   ]
  },
  {
   "cell_type": "code",
   "execution_count": 4,
   "id": "92bc9a3a",
   "metadata": {
    "scrolled": true
   },
   "outputs": [
    {
     "data": {
      "text/html": [
       "<div>\n",
       "<style scoped>\n",
       "    .dataframe tbody tr th:only-of-type {\n",
       "        vertical-align: middle;\n",
       "    }\n",
       "\n",
       "    .dataframe tbody tr th {\n",
       "        vertical-align: top;\n",
       "    }\n",
       "\n",
       "    .dataframe thead th {\n",
       "        text-align: right;\n",
       "    }\n",
       "</style>\n",
       "<table border=\"1\" class=\"dataframe\">\n",
       "  <thead>\n",
       "    <tr style=\"text-align: right;\">\n",
       "      <th></th>\n",
       "      <th>Item_Identifier</th>\n",
       "      <th>Item_Weight</th>\n",
       "      <th>Item_Fat_Content</th>\n",
       "      <th>Item_Visibility</th>\n",
       "      <th>Item_Type</th>\n",
       "      <th>Item_MRP</th>\n",
       "      <th>Outlet_Identifier</th>\n",
       "      <th>Outlet_Establishment_Year</th>\n",
       "      <th>Outlet_Size</th>\n",
       "      <th>Outlet_Location_Type</th>\n",
       "      <th>Outlet_Type</th>\n",
       "      <th>Item_Outlet_Sales</th>\n",
       "    </tr>\n",
       "  </thead>\n",
       "  <tbody>\n",
       "    <tr>\n",
       "      <th>0</th>\n",
       "      <td>FDA15</td>\n",
       "      <td>9.300</td>\n",
       "      <td>Low Fat</td>\n",
       "      <td>0.016047</td>\n",
       "      <td>Dairy</td>\n",
       "      <td>249.8092</td>\n",
       "      <td>OUT049</td>\n",
       "      <td>1999</td>\n",
       "      <td>Medium</td>\n",
       "      <td>Tier 1</td>\n",
       "      <td>Supermarket Type1</td>\n",
       "      <td>3735.1380</td>\n",
       "    </tr>\n",
       "    <tr>\n",
       "      <th>1</th>\n",
       "      <td>DRC01</td>\n",
       "      <td>5.920</td>\n",
       "      <td>Regular</td>\n",
       "      <td>0.019278</td>\n",
       "      <td>Soft Drinks</td>\n",
       "      <td>48.2692</td>\n",
       "      <td>OUT018</td>\n",
       "      <td>2009</td>\n",
       "      <td>Medium</td>\n",
       "      <td>Tier 3</td>\n",
       "      <td>Supermarket Type2</td>\n",
       "      <td>443.4228</td>\n",
       "    </tr>\n",
       "    <tr>\n",
       "      <th>2</th>\n",
       "      <td>FDN15</td>\n",
       "      <td>17.500</td>\n",
       "      <td>Low Fat</td>\n",
       "      <td>0.016760</td>\n",
       "      <td>Meat</td>\n",
       "      <td>141.6180</td>\n",
       "      <td>OUT049</td>\n",
       "      <td>1999</td>\n",
       "      <td>Medium</td>\n",
       "      <td>Tier 1</td>\n",
       "      <td>Supermarket Type1</td>\n",
       "      <td>2097.2700</td>\n",
       "    </tr>\n",
       "    <tr>\n",
       "      <th>3</th>\n",
       "      <td>FDX07</td>\n",
       "      <td>19.200</td>\n",
       "      <td>Regular</td>\n",
       "      <td>0.000000</td>\n",
       "      <td>Fruits and Vegetables</td>\n",
       "      <td>182.0950</td>\n",
       "      <td>OUT010</td>\n",
       "      <td>1998</td>\n",
       "      <td>NaN</td>\n",
       "      <td>Tier 3</td>\n",
       "      <td>Grocery Store</td>\n",
       "      <td>732.3800</td>\n",
       "    </tr>\n",
       "    <tr>\n",
       "      <th>4</th>\n",
       "      <td>NCD19</td>\n",
       "      <td>8.930</td>\n",
       "      <td>Low Fat</td>\n",
       "      <td>0.000000</td>\n",
       "      <td>Household</td>\n",
       "      <td>53.8614</td>\n",
       "      <td>OUT013</td>\n",
       "      <td>1987</td>\n",
       "      <td>High</td>\n",
       "      <td>Tier 3</td>\n",
       "      <td>Supermarket Type1</td>\n",
       "      <td>994.7052</td>\n",
       "    </tr>\n",
       "    <tr>\n",
       "      <th>5</th>\n",
       "      <td>FDP36</td>\n",
       "      <td>10.395</td>\n",
       "      <td>Regular</td>\n",
       "      <td>0.000000</td>\n",
       "      <td>Baking Goods</td>\n",
       "      <td>51.4008</td>\n",
       "      <td>OUT018</td>\n",
       "      <td>2009</td>\n",
       "      <td>Medium</td>\n",
       "      <td>Tier 3</td>\n",
       "      <td>Supermarket Type2</td>\n",
       "      <td>556.6088</td>\n",
       "    </tr>\n",
       "    <tr>\n",
       "      <th>6</th>\n",
       "      <td>FDO10</td>\n",
       "      <td>13.650</td>\n",
       "      <td>Regular</td>\n",
       "      <td>0.012741</td>\n",
       "      <td>Snack Foods</td>\n",
       "      <td>57.6588</td>\n",
       "      <td>OUT013</td>\n",
       "      <td>1987</td>\n",
       "      <td>High</td>\n",
       "      <td>Tier 3</td>\n",
       "      <td>Supermarket Type1</td>\n",
       "      <td>343.5528</td>\n",
       "    </tr>\n",
       "    <tr>\n",
       "      <th>7</th>\n",
       "      <td>FDP10</td>\n",
       "      <td>NaN</td>\n",
       "      <td>Low Fat</td>\n",
       "      <td>0.127470</td>\n",
       "      <td>Snack Foods</td>\n",
       "      <td>107.7622</td>\n",
       "      <td>OUT027</td>\n",
       "      <td>1985</td>\n",
       "      <td>Medium</td>\n",
       "      <td>Tier 3</td>\n",
       "      <td>Supermarket Type3</td>\n",
       "      <td>4022.7636</td>\n",
       "    </tr>\n",
       "    <tr>\n",
       "      <th>8</th>\n",
       "      <td>FDH17</td>\n",
       "      <td>16.200</td>\n",
       "      <td>Regular</td>\n",
       "      <td>0.016687</td>\n",
       "      <td>Frozen Foods</td>\n",
       "      <td>96.9726</td>\n",
       "      <td>OUT045</td>\n",
       "      <td>2002</td>\n",
       "      <td>NaN</td>\n",
       "      <td>Tier 2</td>\n",
       "      <td>Supermarket Type1</td>\n",
       "      <td>1076.5986</td>\n",
       "    </tr>\n",
       "    <tr>\n",
       "      <th>9</th>\n",
       "      <td>FDU28</td>\n",
       "      <td>19.200</td>\n",
       "      <td>Regular</td>\n",
       "      <td>0.094450</td>\n",
       "      <td>Frozen Foods</td>\n",
       "      <td>187.8214</td>\n",
       "      <td>OUT017</td>\n",
       "      <td>2007</td>\n",
       "      <td>NaN</td>\n",
       "      <td>Tier 2</td>\n",
       "      <td>Supermarket Type1</td>\n",
       "      <td>4710.5350</td>\n",
       "    </tr>\n",
       "  </tbody>\n",
       "</table>\n",
       "</div>"
      ],
      "text/plain": [
       "  Item_Identifier  Item_Weight Item_Fat_Content  Item_Visibility  \\\n",
       "0           FDA15        9.300          Low Fat         0.016047   \n",
       "1           DRC01        5.920          Regular         0.019278   \n",
       "2           FDN15       17.500          Low Fat         0.016760   \n",
       "3           FDX07       19.200          Regular         0.000000   \n",
       "4           NCD19        8.930          Low Fat         0.000000   \n",
       "5           FDP36       10.395          Regular         0.000000   \n",
       "6           FDO10       13.650          Regular         0.012741   \n",
       "7           FDP10          NaN          Low Fat         0.127470   \n",
       "8           FDH17       16.200          Regular         0.016687   \n",
       "9           FDU28       19.200          Regular         0.094450   \n",
       "\n",
       "               Item_Type  Item_MRP Outlet_Identifier  \\\n",
       "0                  Dairy  249.8092            OUT049   \n",
       "1            Soft Drinks   48.2692            OUT018   \n",
       "2                   Meat  141.6180            OUT049   \n",
       "3  Fruits and Vegetables  182.0950            OUT010   \n",
       "4              Household   53.8614            OUT013   \n",
       "5           Baking Goods   51.4008            OUT018   \n",
       "6            Snack Foods   57.6588            OUT013   \n",
       "7            Snack Foods  107.7622            OUT027   \n",
       "8           Frozen Foods   96.9726            OUT045   \n",
       "9           Frozen Foods  187.8214            OUT017   \n",
       "\n",
       "   Outlet_Establishment_Year Outlet_Size Outlet_Location_Type  \\\n",
       "0                       1999      Medium               Tier 1   \n",
       "1                       2009      Medium               Tier 3   \n",
       "2                       1999      Medium               Tier 1   \n",
       "3                       1998         NaN               Tier 3   \n",
       "4                       1987        High               Tier 3   \n",
       "5                       2009      Medium               Tier 3   \n",
       "6                       1987        High               Tier 3   \n",
       "7                       1985      Medium               Tier 3   \n",
       "8                       2002         NaN               Tier 2   \n",
       "9                       2007         NaN               Tier 2   \n",
       "\n",
       "         Outlet_Type  Item_Outlet_Sales  \n",
       "0  Supermarket Type1          3735.1380  \n",
       "1  Supermarket Type2           443.4228  \n",
       "2  Supermarket Type1          2097.2700  \n",
       "3      Grocery Store           732.3800  \n",
       "4  Supermarket Type1           994.7052  \n",
       "5  Supermarket Type2           556.6088  \n",
       "6  Supermarket Type1           343.5528  \n",
       "7  Supermarket Type3          4022.7636  \n",
       "8  Supermarket Type1          1076.5986  \n",
       "9  Supermarket Type1          4710.5350  "
      ]
     },
     "execution_count": 4,
     "metadata": {},
     "output_type": "execute_result"
    }
   ],
   "source": [
    "sales.head(10)"
   ]
  },
  {
   "cell_type": "markdown",
   "id": "2d276f1a",
   "metadata": {},
   "source": [
    "### Choosing right category to find missing value of Item_Weight :"
   ]
  },
  {
   "cell_type": "code",
   "execution_count": 5,
   "id": "648063ed",
   "metadata": {},
   "outputs": [],
   "source": [
    "# On Item_Fat_Content :"
   ]
  },
  {
   "cell_type": "code",
   "execution_count": 6,
   "id": "8f464d23",
   "metadata": {},
   "outputs": [
    {
     "data": {
      "text/plain": [
       "12.8"
      ]
     },
     "execution_count": 6,
     "metadata": {},
     "output_type": "execute_result"
    }
   ],
   "source": [
    "sales.loc[sales.Item_Fat_Content=='Low Fat','Item_Weight'].median()"
   ]
  },
  {
   "cell_type": "code",
   "execution_count": 7,
   "id": "2b98098f",
   "metadata": {},
   "outputs": [
    {
     "data": {
      "text/html": [
       "<div>\n",
       "<style scoped>\n",
       "    .dataframe tbody tr th:only-of-type {\n",
       "        vertical-align: middle;\n",
       "    }\n",
       "\n",
       "    .dataframe tbody tr th {\n",
       "        vertical-align: top;\n",
       "    }\n",
       "\n",
       "    .dataframe thead th {\n",
       "        text-align: right;\n",
       "    }\n",
       "</style>\n",
       "<table border=\"1\" class=\"dataframe\">\n",
       "  <thead>\n",
       "    <tr style=\"text-align: right;\">\n",
       "      <th></th>\n",
       "      <th>count</th>\n",
       "      <th>mean</th>\n",
       "      <th>std</th>\n",
       "      <th>min</th>\n",
       "      <th>25%</th>\n",
       "      <th>50%</th>\n",
       "      <th>75%</th>\n",
       "      <th>max</th>\n",
       "    </tr>\n",
       "    <tr>\n",
       "      <th>Item_Fat_Content</th>\n",
       "      <th></th>\n",
       "      <th></th>\n",
       "      <th></th>\n",
       "      <th></th>\n",
       "      <th></th>\n",
       "      <th></th>\n",
       "      <th></th>\n",
       "      <th></th>\n",
       "    </tr>\n",
       "  </thead>\n",
       "  <tbody>\n",
       "    <tr>\n",
       "      <th>LF</th>\n",
       "      <td>260.0</td>\n",
       "      <td>12.803212</td>\n",
       "      <td>4.742429</td>\n",
       "      <td>4.920</td>\n",
       "      <td>8.90500</td>\n",
       "      <td>12.15</td>\n",
       "      <td>17.5000</td>\n",
       "      <td>21.25</td>\n",
       "    </tr>\n",
       "    <tr>\n",
       "      <th>Low Fat</th>\n",
       "      <td>4222.0</td>\n",
       "      <td>12.953079</td>\n",
       "      <td>4.654783</td>\n",
       "      <td>4.590</td>\n",
       "      <td>8.76000</td>\n",
       "      <td>12.80</td>\n",
       "      <td>17.1000</td>\n",
       "      <td>21.35</td>\n",
       "    </tr>\n",
       "    <tr>\n",
       "      <th>Regular</th>\n",
       "      <td>2388.0</td>\n",
       "      <td>12.705840</td>\n",
       "      <td>4.624503</td>\n",
       "      <td>4.555</td>\n",
       "      <td>8.84000</td>\n",
       "      <td>12.50</td>\n",
       "      <td>16.7000</td>\n",
       "      <td>21.20</td>\n",
       "    </tr>\n",
       "    <tr>\n",
       "      <th>low fat</th>\n",
       "      <td>84.0</td>\n",
       "      <td>12.563988</td>\n",
       "      <td>4.347294</td>\n",
       "      <td>5.485</td>\n",
       "      <td>8.84500</td>\n",
       "      <td>12.50</td>\n",
       "      <td>16.7125</td>\n",
       "      <td>21.25</td>\n",
       "    </tr>\n",
       "    <tr>\n",
       "      <th>reg</th>\n",
       "      <td>106.0</td>\n",
       "      <td>12.842642</td>\n",
       "      <td>4.581413</td>\n",
       "      <td>5.460</td>\n",
       "      <td>8.52625</td>\n",
       "      <td>13.00</td>\n",
       "      <td>16.7000</td>\n",
       "      <td>20.85</td>\n",
       "    </tr>\n",
       "  </tbody>\n",
       "</table>\n",
       "</div>"
      ],
      "text/plain": [
       "                   count       mean       std    min      25%    50%      75%  \\\n",
       "Item_Fat_Content                                                                \n",
       "LF                 260.0  12.803212  4.742429  4.920  8.90500  12.15  17.5000   \n",
       "Low Fat           4222.0  12.953079  4.654783  4.590  8.76000  12.80  17.1000   \n",
       "Regular           2388.0  12.705840  4.624503  4.555  8.84000  12.50  16.7000   \n",
       "low fat             84.0  12.563988  4.347294  5.485  8.84500  12.50  16.7125   \n",
       "reg                106.0  12.842642  4.581413  5.460  8.52625  13.00  16.7000   \n",
       "\n",
       "                    max  \n",
       "Item_Fat_Content         \n",
       "LF                21.25  \n",
       "Low Fat           21.35  \n",
       "Regular           21.20  \n",
       "low fat           21.25  \n",
       "reg               20.85  "
      ]
     },
     "execution_count": 7,
     "metadata": {},
     "output_type": "execute_result"
    }
   ],
   "source": [
    "sales.groupby('Item_Fat_Content')['Item_Weight'].describe()"
   ]
  },
  {
   "cell_type": "code",
   "execution_count": 8,
   "id": "697608e6",
   "metadata": {},
   "outputs": [],
   "source": [
    "# On Item_Identifier :"
   ]
  },
  {
   "cell_type": "code",
   "execution_count": 9,
   "id": "f3388fe0",
   "metadata": {},
   "outputs": [
    {
     "data": {
      "text/html": [
       "<div>\n",
       "<style scoped>\n",
       "    .dataframe tbody tr th:only-of-type {\n",
       "        vertical-align: middle;\n",
       "    }\n",
       "\n",
       "    .dataframe tbody tr th {\n",
       "        vertical-align: top;\n",
       "    }\n",
       "\n",
       "    .dataframe thead th {\n",
       "        text-align: right;\n",
       "    }\n",
       "</style>\n",
       "<table border=\"1\" class=\"dataframe\">\n",
       "  <thead>\n",
       "    <tr style=\"text-align: right;\">\n",
       "      <th></th>\n",
       "      <th>count</th>\n",
       "      <th>mean</th>\n",
       "      <th>std</th>\n",
       "      <th>min</th>\n",
       "      <th>25%</th>\n",
       "      <th>50%</th>\n",
       "      <th>75%</th>\n",
       "      <th>max</th>\n",
       "    </tr>\n",
       "    <tr>\n",
       "      <th>Item_Identifier</th>\n",
       "      <th></th>\n",
       "      <th></th>\n",
       "      <th></th>\n",
       "      <th></th>\n",
       "      <th></th>\n",
       "      <th></th>\n",
       "      <th></th>\n",
       "      <th></th>\n",
       "    </tr>\n",
       "  </thead>\n",
       "  <tbody>\n",
       "    <tr>\n",
       "      <th>DRA12</th>\n",
       "      <td>6.0</td>\n",
       "      <td>11.600</td>\n",
       "      <td>0.000000e+00</td>\n",
       "      <td>11.600</td>\n",
       "      <td>11.600</td>\n",
       "      <td>11.600</td>\n",
       "      <td>11.600</td>\n",
       "      <td>11.600</td>\n",
       "    </tr>\n",
       "    <tr>\n",
       "      <th>DRA24</th>\n",
       "      <td>5.0</td>\n",
       "      <td>19.350</td>\n",
       "      <td>0.000000e+00</td>\n",
       "      <td>19.350</td>\n",
       "      <td>19.350</td>\n",
       "      <td>19.350</td>\n",
       "      <td>19.350</td>\n",
       "      <td>19.350</td>\n",
       "    </tr>\n",
       "    <tr>\n",
       "      <th>DRA59</th>\n",
       "      <td>6.0</td>\n",
       "      <td>8.270</td>\n",
       "      <td>1.945901e-15</td>\n",
       "      <td>8.270</td>\n",
       "      <td>8.270</td>\n",
       "      <td>8.270</td>\n",
       "      <td>8.270</td>\n",
       "      <td>8.270</td>\n",
       "    </tr>\n",
       "    <tr>\n",
       "      <th>DRB01</th>\n",
       "      <td>2.0</td>\n",
       "      <td>7.390</td>\n",
       "      <td>0.000000e+00</td>\n",
       "      <td>7.390</td>\n",
       "      <td>7.390</td>\n",
       "      <td>7.390</td>\n",
       "      <td>7.390</td>\n",
       "      <td>7.390</td>\n",
       "    </tr>\n",
       "    <tr>\n",
       "      <th>DRB13</th>\n",
       "      <td>5.0</td>\n",
       "      <td>6.115</td>\n",
       "      <td>0.000000e+00</td>\n",
       "      <td>6.115</td>\n",
       "      <td>6.115</td>\n",
       "      <td>6.115</td>\n",
       "      <td>6.115</td>\n",
       "      <td>6.115</td>\n",
       "    </tr>\n",
       "    <tr>\n",
       "      <th>...</th>\n",
       "      <td>...</td>\n",
       "      <td>...</td>\n",
       "      <td>...</td>\n",
       "      <td>...</td>\n",
       "      <td>...</td>\n",
       "      <td>...</td>\n",
       "      <td>...</td>\n",
       "      <td>...</td>\n",
       "    </tr>\n",
       "    <tr>\n",
       "      <th>NCZ30</th>\n",
       "      <td>6.0</td>\n",
       "      <td>6.590</td>\n",
       "      <td>9.729507e-16</td>\n",
       "      <td>6.590</td>\n",
       "      <td>6.590</td>\n",
       "      <td>6.590</td>\n",
       "      <td>6.590</td>\n",
       "      <td>6.590</td>\n",
       "    </tr>\n",
       "    <tr>\n",
       "      <th>NCZ41</th>\n",
       "      <td>5.0</td>\n",
       "      <td>19.850</td>\n",
       "      <td>0.000000e+00</td>\n",
       "      <td>19.850</td>\n",
       "      <td>19.850</td>\n",
       "      <td>19.850</td>\n",
       "      <td>19.850</td>\n",
       "      <td>19.850</td>\n",
       "    </tr>\n",
       "    <tr>\n",
       "      <th>NCZ42</th>\n",
       "      <td>5.0</td>\n",
       "      <td>10.500</td>\n",
       "      <td>0.000000e+00</td>\n",
       "      <td>10.500</td>\n",
       "      <td>10.500</td>\n",
       "      <td>10.500</td>\n",
       "      <td>10.500</td>\n",
       "      <td>10.500</td>\n",
       "    </tr>\n",
       "    <tr>\n",
       "      <th>NCZ53</th>\n",
       "      <td>4.0</td>\n",
       "      <td>9.600</td>\n",
       "      <td>0.000000e+00</td>\n",
       "      <td>9.600</td>\n",
       "      <td>9.600</td>\n",
       "      <td>9.600</td>\n",
       "      <td>9.600</td>\n",
       "      <td>9.600</td>\n",
       "    </tr>\n",
       "    <tr>\n",
       "      <th>NCZ54</th>\n",
       "      <td>5.0</td>\n",
       "      <td>14.650</td>\n",
       "      <td>0.000000e+00</td>\n",
       "      <td>14.650</td>\n",
       "      <td>14.650</td>\n",
       "      <td>14.650</td>\n",
       "      <td>14.650</td>\n",
       "      <td>14.650</td>\n",
       "    </tr>\n",
       "  </tbody>\n",
       "</table>\n",
       "<p>1559 rows × 8 columns</p>\n",
       "</div>"
      ],
      "text/plain": [
       "                 count    mean           std     min     25%     50%     75%  \\\n",
       "Item_Identifier                                                                \n",
       "DRA12              6.0  11.600  0.000000e+00  11.600  11.600  11.600  11.600   \n",
       "DRA24              5.0  19.350  0.000000e+00  19.350  19.350  19.350  19.350   \n",
       "DRA59              6.0   8.270  1.945901e-15   8.270   8.270   8.270   8.270   \n",
       "DRB01              2.0   7.390  0.000000e+00   7.390   7.390   7.390   7.390   \n",
       "DRB13              5.0   6.115  0.000000e+00   6.115   6.115   6.115   6.115   \n",
       "...                ...     ...           ...     ...     ...     ...     ...   \n",
       "NCZ30              6.0   6.590  9.729507e-16   6.590   6.590   6.590   6.590   \n",
       "NCZ41              5.0  19.850  0.000000e+00  19.850  19.850  19.850  19.850   \n",
       "NCZ42              5.0  10.500  0.000000e+00  10.500  10.500  10.500  10.500   \n",
       "NCZ53              4.0   9.600  0.000000e+00   9.600   9.600   9.600   9.600   \n",
       "NCZ54              5.0  14.650  0.000000e+00  14.650  14.650  14.650  14.650   \n",
       "\n",
       "                    max  \n",
       "Item_Identifier          \n",
       "DRA12            11.600  \n",
       "DRA24            19.350  \n",
       "DRA59             8.270  \n",
       "DRB01             7.390  \n",
       "DRB13             6.115  \n",
       "...                 ...  \n",
       "NCZ30             6.590  \n",
       "NCZ41            19.850  \n",
       "NCZ42            10.500  \n",
       "NCZ53             9.600  \n",
       "NCZ54            14.650  \n",
       "\n",
       "[1559 rows x 8 columns]"
      ]
     },
     "execution_count": 9,
     "metadata": {},
     "output_type": "execute_result"
    }
   ],
   "source": [
    "sales.groupby('Item_Identifier')['Item_Weight'].describe()"
   ]
  },
  {
   "cell_type": "code",
   "execution_count": 10,
   "id": "0c04c890",
   "metadata": {
    "scrolled": false
   },
   "outputs": [
    {
     "data": {
      "text/plain": [
       "7        NaN\n",
       "585     19.0\n",
       "2623    19.0\n",
       "3382    19.0\n",
       "4585    19.0\n",
       "6087    19.0\n",
       "7883    19.0\n",
       "Name: Item_Weight, dtype: float64"
      ]
     },
     "execution_count": 10,
     "metadata": {},
     "output_type": "execute_result"
    }
   ],
   "source": [
    "sales.loc[sales.Item_Identifier=='FDP10','Item_Weight']"
   ]
  },
  {
   "cell_type": "markdown",
   "id": "66d4d3c2",
   "metadata": {},
   "source": [
    "### Using Item_Identifier to fill missing value :"
   ]
  },
  {
   "cell_type": "code",
   "execution_count": 11,
   "id": "8d3ef45c",
   "metadata": {},
   "outputs": [],
   "source": [
    "dict_=sales.groupby('Item_Identifier')['Item_Weight'].median().to_dict"
   ]
  },
  {
   "cell_type": "code",
   "execution_count": 12,
   "id": "3fabeb0c",
   "metadata": {},
   "outputs": [],
   "source": [
    "# Filling missing values using dict_ median values :  Can be done either way\n",
    "\n",
    "\n",
    "#sales['Item_Weight'] = sales.groupby('Item_Identifier')['Item_Weight'].fillna(dict_)\n",
    "\n",
    "sales['Item_Weight'] = sales.groupby('Item_Identifier')['Item_Weight'].transform(lambda x:x.fillna(x.median()))"
   ]
  },
  {
   "cell_type": "code",
   "execution_count": 13,
   "id": "89754433",
   "metadata": {},
   "outputs": [
    {
     "data": {
      "text/plain": [
       "Item_Identifier                 0\n",
       "Item_Weight                     4\n",
       "Item_Fat_Content                0\n",
       "Item_Visibility                 0\n",
       "Item_Type                       0\n",
       "Item_MRP                        0\n",
       "Outlet_Identifier               0\n",
       "Outlet_Establishment_Year       0\n",
       "Outlet_Size                  2410\n",
       "Outlet_Location_Type            0\n",
       "Outlet_Type                     0\n",
       "Item_Outlet_Sales               0\n",
       "dtype: int64"
      ]
     },
     "execution_count": 13,
     "metadata": {},
     "output_type": "execute_result"
    }
   ],
   "source": [
    "sales.isnull().sum()"
   ]
  },
  {
   "cell_type": "code",
   "execution_count": 14,
   "id": "4d4664e4",
   "metadata": {},
   "outputs": [
    {
     "data": {
      "text/html": [
       "<div>\n",
       "<style scoped>\n",
       "    .dataframe tbody tr th:only-of-type {\n",
       "        vertical-align: middle;\n",
       "    }\n",
       "\n",
       "    .dataframe tbody tr th {\n",
       "        vertical-align: top;\n",
       "    }\n",
       "\n",
       "    .dataframe thead th {\n",
       "        text-align: right;\n",
       "    }\n",
       "</style>\n",
       "<table border=\"1\" class=\"dataframe\">\n",
       "  <thead>\n",
       "    <tr style=\"text-align: right;\">\n",
       "      <th></th>\n",
       "      <th>Item_Identifier</th>\n",
       "      <th>Item_Weight</th>\n",
       "      <th>Item_Fat_Content</th>\n",
       "      <th>Item_Visibility</th>\n",
       "      <th>Item_Type</th>\n",
       "      <th>Item_MRP</th>\n",
       "      <th>Outlet_Identifier</th>\n",
       "      <th>Outlet_Establishment_Year</th>\n",
       "      <th>Outlet_Size</th>\n",
       "      <th>Outlet_Location_Type</th>\n",
       "      <th>Outlet_Type</th>\n",
       "      <th>Item_Outlet_Sales</th>\n",
       "    </tr>\n",
       "  </thead>\n",
       "  <tbody>\n",
       "    <tr>\n",
       "      <th>927</th>\n",
       "      <td>FDN52</td>\n",
       "      <td>NaN</td>\n",
       "      <td>Regular</td>\n",
       "      <td>0.130933</td>\n",
       "      <td>Frozen Foods</td>\n",
       "      <td>86.9198</td>\n",
       "      <td>OUT027</td>\n",
       "      <td>1985</td>\n",
       "      <td>Medium</td>\n",
       "      <td>Tier 3</td>\n",
       "      <td>Supermarket Type3</td>\n",
       "      <td>1569.9564</td>\n",
       "    </tr>\n",
       "    <tr>\n",
       "      <th>1922</th>\n",
       "      <td>FDK57</td>\n",
       "      <td>NaN</td>\n",
       "      <td>Low Fat</td>\n",
       "      <td>0.079904</td>\n",
       "      <td>Snack Foods</td>\n",
       "      <td>120.0440</td>\n",
       "      <td>OUT027</td>\n",
       "      <td>1985</td>\n",
       "      <td>Medium</td>\n",
       "      <td>Tier 3</td>\n",
       "      <td>Supermarket Type3</td>\n",
       "      <td>4434.2280</td>\n",
       "    </tr>\n",
       "    <tr>\n",
       "      <th>4187</th>\n",
       "      <td>FDE52</td>\n",
       "      <td>NaN</td>\n",
       "      <td>Regular</td>\n",
       "      <td>0.029742</td>\n",
       "      <td>Dairy</td>\n",
       "      <td>88.9514</td>\n",
       "      <td>OUT027</td>\n",
       "      <td>1985</td>\n",
       "      <td>Medium</td>\n",
       "      <td>Tier 3</td>\n",
       "      <td>Supermarket Type3</td>\n",
       "      <td>3453.5046</td>\n",
       "    </tr>\n",
       "    <tr>\n",
       "      <th>5022</th>\n",
       "      <td>FDQ60</td>\n",
       "      <td>NaN</td>\n",
       "      <td>Regular</td>\n",
       "      <td>0.191501</td>\n",
       "      <td>Baking Goods</td>\n",
       "      <td>121.2098</td>\n",
       "      <td>OUT019</td>\n",
       "      <td>1985</td>\n",
       "      <td>Small</td>\n",
       "      <td>Tier 1</td>\n",
       "      <td>Grocery Store</td>\n",
       "      <td>120.5098</td>\n",
       "    </tr>\n",
       "  </tbody>\n",
       "</table>\n",
       "</div>"
      ],
      "text/plain": [
       "     Item_Identifier  Item_Weight Item_Fat_Content  Item_Visibility  \\\n",
       "927            FDN52          NaN          Regular         0.130933   \n",
       "1922           FDK57          NaN          Low Fat         0.079904   \n",
       "4187           FDE52          NaN          Regular         0.029742   \n",
       "5022           FDQ60          NaN          Regular         0.191501   \n",
       "\n",
       "         Item_Type  Item_MRP Outlet_Identifier  Outlet_Establishment_Year  \\\n",
       "927   Frozen Foods   86.9198            OUT027                       1985   \n",
       "1922   Snack Foods  120.0440            OUT027                       1985   \n",
       "4187         Dairy   88.9514            OUT027                       1985   \n",
       "5022  Baking Goods  121.2098            OUT019                       1985   \n",
       "\n",
       "     Outlet_Size Outlet_Location_Type        Outlet_Type  Item_Outlet_Sales  \n",
       "927       Medium               Tier 3  Supermarket Type3          1569.9564  \n",
       "1922      Medium               Tier 3  Supermarket Type3          4434.2280  \n",
       "4187      Medium               Tier 3  Supermarket Type3          3453.5046  \n",
       "5022       Small               Tier 1      Grocery Store           120.5098  "
      ]
     },
     "execution_count": 14,
     "metadata": {},
     "output_type": "execute_result"
    }
   ],
   "source": [
    "# Checking Enteries where Item_Weight is still Null.\n",
    "sales.loc[sales.Item_Weight.isnull()]\n",
    "\n",
    "# Inference : These Item are single product thats why median is not found for them."
   ]
  },
  {
   "cell_type": "code",
   "execution_count": 15,
   "id": "8b70e5a8",
   "metadata": {},
   "outputs": [],
   "source": [
    "# Using Item_type to find the value now based on Item_Type.\n",
    "Frozen_Weight = sales.loc[sales.Item_Type== 'Frozen Foods','Item_Weight'].median()\n",
    "Snack_Weight =  sales.loc[sales.Item_Type== 'Snack Foods','Item_Weight'].median()\n",
    "Dairy_Weight =  sales.loc[sales.Item_Type== 'Dairy','Item_Weight'].median()\n",
    "Baking_Weight = sales.loc[sales.Item_Type== 'Baking Goods','Item_Weight'].median()"
   ]
  },
  {
   "cell_type": "code",
   "execution_count": 16,
   "id": "2cd6e5b6",
   "metadata": {},
   "outputs": [],
   "source": [
    "# Filling missing Values.\n",
    "sales.loc[927,'Item_Weight'] = Frozen_Weight\n",
    "sales.loc[1922,'Item_Weight'] = Snack_Weight\n",
    "sales.loc[4187,'Item_Weight'] = Dairy_Weight\n",
    "sales.loc[(sales.Item_Type == 'Baking Goods')&(sales.Item_Weight.isnull()),'Item_Weight'] = Baking_Weight"
   ]
  },
  {
   "cell_type": "code",
   "execution_count": 17,
   "id": "ad992033",
   "metadata": {},
   "outputs": [
    {
     "data": {
      "text/plain": [
       "Item_Identifier                 0\n",
       "Item_Weight                     0\n",
       "Item_Fat_Content                0\n",
       "Item_Visibility                 0\n",
       "Item_Type                       0\n",
       "Item_MRP                        0\n",
       "Outlet_Identifier               0\n",
       "Outlet_Establishment_Year       0\n",
       "Outlet_Size                  2410\n",
       "Outlet_Location_Type            0\n",
       "Outlet_Type                     0\n",
       "Item_Outlet_Sales               0\n",
       "dtype: int64"
      ]
     },
     "execution_count": 17,
     "metadata": {},
     "output_type": "execute_result"
    }
   ],
   "source": [
    "# Checking missing values.\n",
    "sales.isnull().sum()\n",
    "\n",
    "## or\n",
    "\n",
    "# sales.loc[sales.Item_Weight.isnull()]"
   ]
  },
  {
   "cell_type": "code",
   "execution_count": 18,
   "id": "ecbde8e7",
   "metadata": {},
   "outputs": [
    {
     "data": {
      "text/plain": [
       "Item_Weight                     4.645031\n",
       "Item_Visibility                 0.051598\n",
       "Item_MRP                       62.275067\n",
       "Outlet_Establishment_Year       8.371760\n",
       "Item_Outlet_Sales            1706.499616\n",
       "dtype: float64"
      ]
     },
     "execution_count": 18,
     "metadata": {},
     "output_type": "execute_result"
    }
   ],
   "source": [
    "# Calculate the standard deviation of target and predictor variables.\n",
    "sales.std()"
   ]
  },
  {
   "cell_type": "markdown",
   "id": "65254986",
   "metadata": {},
   "source": [
    "-- Note : Sample std deviation and std deviation - Difference (Google it.)\n",
    "* When having same std deviation of multiple case then we find Coefficient of variation (cv)\n",
    "* cv = ( sample std deviation / Sample mean )\n",
    "* Lower CV better the case.\n",
    "* Higher CV worse the case."
   ]
  },
  {
   "cell_type": "code",
   "execution_count": 19,
   "id": "3129a81c",
   "metadata": {},
   "outputs": [
    {
     "data": {
      "text/plain": [
       "Item_Weight                  0.360769\n",
       "Item_Visibility              0.780224\n",
       "Item_MRP                     0.441690\n",
       "Outlet_Establishment_Year    0.004190\n",
       "Item_Outlet_Sales            0.782335\n",
       "dtype: float64"
      ]
     },
     "execution_count": 19,
     "metadata": {},
     "output_type": "execute_result"
    }
   ],
   "source": [
    "# Calculate the Coefficient of Variation in the Data.\n",
    "sales.std()/sales.mean()"
   ]
  },
  {
   "cell_type": "markdown",
   "id": "fdc18c85",
   "metadata": {},
   "source": [
    "#### Interpretation of CV :\n",
    "* Coefficient of Variation suggests which of the categories have the lowest variation with respect to mean.\n",
    "* It is calculated as std/mean which means what %age of the data is deviating from the mean.\n",
    "* Higher the CV, less reliable that variable in the data is.\n",
    "* Lower the CV, we can count on that feature more.\n",
    "\n",
    "Note : Low CV is always preferred when comparing two or more products/ employees/ sports player/ stocks, etc.\n",
    "\n",
    "\n",
    "#### Kurtosis :\n",
    "* Tells you the shape of the Data.\n",
    "* It tells us by looking at the **Peakedness of the Data**.\n",
    "* Here Peakedness of the Data represents **heavy tails** or **light tails**.\n",
    "* The normal distribution curve can be divided in 03 parts - **Mesokurtic curve, PlatyKurtic and LeptoKurtic Curve**.\n",
    "\n",
    "Note : Normal Distribution is **MesoKurtic Curve** with a Kurtosis of **3**.\n",
    "\n",
    "Note : If any curve has a Kurtosis of < 3, PlatyKurtic Curves and if it is > 3, It is LeptoKurtic.\n",
    "\n",
    "Note : **The Std Relation is Skewness = 0 and Kurtosis = 3 for the Data to be normal**."
   ]
  },
  {
   "cell_type": "code",
   "execution_count": 20,
   "id": "e115eb58",
   "metadata": {
    "scrolled": true
   },
   "outputs": [
    {
     "data": {
      "text/plain": [
       "Item_Weight                 -1.229869\n",
       "Item_Visibility              1.679445\n",
       "Item_MRP                    -0.889769\n",
       "Outlet_Establishment_Year   -1.205694\n",
       "Item_Outlet_Sales            1.615877\n",
       "dtype: float64"
      ]
     },
     "execution_count": 20,
     "metadata": {},
     "output_type": "execute_result"
    }
   ],
   "source": [
    "sales.kurt()\n",
    "## All the variable are PlatyKurtic."
   ]
  },
  {
   "cell_type": "markdown",
   "id": "684c29b9",
   "metadata": {},
   "source": [
    "# Scaling :\n",
    "1. standard scaler\n",
    "2. min max scaler"
   ]
  },
  {
   "cell_type": "markdown",
   "id": "80fda633",
   "metadata": {},
   "source": [
    "1. Standard Scaler : The StandardScaler is a method of standardizing data such the the transformed feature has 0 mean and and a                            standard deviation of 1.\n",
    "                     The standard score of a sample x is calculated as:     \n",
    "  **z = (x - u) / s**\n",
    "                     \n",
    "2. Min Max Scaler : There is another way of data scaling, where the minimum of feature is made equal to zero and the maximum of   feature equal to one. MinMax Scaler shrinks the data within the given range, usually of 0 to 1. It transforms data by scaling features to a given range. It scales the values to a specific value range without changing the shape of the original distribution.\n",
    "             \n",
    "  **Formula = Xi - min()/ (max - min)**\n",
    "     \n",
    "Note : Use Min Max Scaler when there is no Outlier."
   ]
  },
  {
   "cell_type": "code",
   "execution_count": 21,
   "id": "302d75cb",
   "metadata": {},
   "outputs": [
    {
     "data": {
      "text/html": [
       "<div>\n",
       "<style scoped>\n",
       "    .dataframe tbody tr th:only-of-type {\n",
       "        vertical-align: middle;\n",
       "    }\n",
       "\n",
       "    .dataframe tbody tr th {\n",
       "        vertical-align: top;\n",
       "    }\n",
       "\n",
       "    .dataframe thead th {\n",
       "        text-align: right;\n",
       "    }\n",
       "</style>\n",
       "<table border=\"1\" class=\"dataframe\">\n",
       "  <thead>\n",
       "    <tr style=\"text-align: right;\">\n",
       "      <th></th>\n",
       "      <th>Item_Weight</th>\n",
       "      <th>Item_Visibility</th>\n",
       "      <th>Item_MRP</th>\n",
       "      <th>Outlet_Establishment_Year</th>\n",
       "      <th>Item_Outlet_Sales</th>\n",
       "    </tr>\n",
       "  </thead>\n",
       "  <tbody>\n",
       "    <tr>\n",
       "      <th>0</th>\n",
       "      <td>9.300</td>\n",
       "      <td>0.016047</td>\n",
       "      <td>249.8092</td>\n",
       "      <td>1999</td>\n",
       "      <td>3735.1380</td>\n",
       "    </tr>\n",
       "    <tr>\n",
       "      <th>1</th>\n",
       "      <td>5.920</td>\n",
       "      <td>0.019278</td>\n",
       "      <td>48.2692</td>\n",
       "      <td>2009</td>\n",
       "      <td>443.4228</td>\n",
       "    </tr>\n",
       "    <tr>\n",
       "      <th>2</th>\n",
       "      <td>17.500</td>\n",
       "      <td>0.016760</td>\n",
       "      <td>141.6180</td>\n",
       "      <td>1999</td>\n",
       "      <td>2097.2700</td>\n",
       "    </tr>\n",
       "    <tr>\n",
       "      <th>3</th>\n",
       "      <td>19.200</td>\n",
       "      <td>0.000000</td>\n",
       "      <td>182.0950</td>\n",
       "      <td>1998</td>\n",
       "      <td>732.3800</td>\n",
       "    </tr>\n",
       "    <tr>\n",
       "      <th>4</th>\n",
       "      <td>8.930</td>\n",
       "      <td>0.000000</td>\n",
       "      <td>53.8614</td>\n",
       "      <td>1987</td>\n",
       "      <td>994.7052</td>\n",
       "    </tr>\n",
       "    <tr>\n",
       "      <th>...</th>\n",
       "      <td>...</td>\n",
       "      <td>...</td>\n",
       "      <td>...</td>\n",
       "      <td>...</td>\n",
       "      <td>...</td>\n",
       "    </tr>\n",
       "    <tr>\n",
       "      <th>8518</th>\n",
       "      <td>6.865</td>\n",
       "      <td>0.056783</td>\n",
       "      <td>214.5218</td>\n",
       "      <td>1987</td>\n",
       "      <td>2778.3834</td>\n",
       "    </tr>\n",
       "    <tr>\n",
       "      <th>8519</th>\n",
       "      <td>8.380</td>\n",
       "      <td>0.046982</td>\n",
       "      <td>108.1570</td>\n",
       "      <td>2002</td>\n",
       "      <td>549.2850</td>\n",
       "    </tr>\n",
       "    <tr>\n",
       "      <th>8520</th>\n",
       "      <td>10.600</td>\n",
       "      <td>0.035186</td>\n",
       "      <td>85.1224</td>\n",
       "      <td>2004</td>\n",
       "      <td>1193.1136</td>\n",
       "    </tr>\n",
       "    <tr>\n",
       "      <th>8521</th>\n",
       "      <td>7.210</td>\n",
       "      <td>0.145221</td>\n",
       "      <td>103.1332</td>\n",
       "      <td>2009</td>\n",
       "      <td>1845.5976</td>\n",
       "    </tr>\n",
       "    <tr>\n",
       "      <th>8522</th>\n",
       "      <td>14.800</td>\n",
       "      <td>0.044878</td>\n",
       "      <td>75.4670</td>\n",
       "      <td>1997</td>\n",
       "      <td>765.6700</td>\n",
       "    </tr>\n",
       "  </tbody>\n",
       "</table>\n",
       "<p>8523 rows × 5 columns</p>\n",
       "</div>"
      ],
      "text/plain": [
       "      Item_Weight  Item_Visibility  Item_MRP  Outlet_Establishment_Year  \\\n",
       "0           9.300         0.016047  249.8092                       1999   \n",
       "1           5.920         0.019278   48.2692                       2009   \n",
       "2          17.500         0.016760  141.6180                       1999   \n",
       "3          19.200         0.000000  182.0950                       1998   \n",
       "4           8.930         0.000000   53.8614                       1987   \n",
       "...           ...              ...       ...                        ...   \n",
       "8518        6.865         0.056783  214.5218                       1987   \n",
       "8519        8.380         0.046982  108.1570                       2002   \n",
       "8520       10.600         0.035186   85.1224                       2004   \n",
       "8521        7.210         0.145221  103.1332                       2009   \n",
       "8522       14.800         0.044878   75.4670                       1997   \n",
       "\n",
       "      Item_Outlet_Sales  \n",
       "0             3735.1380  \n",
       "1              443.4228  \n",
       "2             2097.2700  \n",
       "3              732.3800  \n",
       "4              994.7052  \n",
       "...                 ...  \n",
       "8518          2778.3834  \n",
       "8519           549.2850  \n",
       "8520          1193.1136  \n",
       "8521          1845.5976  \n",
       "8522           765.6700  \n",
       "\n",
       "[8523 rows x 5 columns]"
      ]
     },
     "execution_count": 21,
     "metadata": {},
     "output_type": "execute_result"
    }
   ],
   "source": [
    "df = sales.select_dtypes(include=np.number)\n",
    "df"
   ]
  },
  {
   "cell_type": "code",
   "execution_count": 119,
   "id": "9db275f3",
   "metadata": {},
   "outputs": [],
   "source": [
    "from sklearn.preprocessing import StandardScaler, MinMaxScaler"
   ]
  },
  {
   "cell_type": "code",
   "execution_count": 120,
   "id": "e4f53189",
   "metadata": {},
   "outputs": [],
   "source": [
    "# Initiate the Machine.\n",
    "sc = StandardScaler()\n",
    "mmax = MinMaxScaler()"
   ]
  },
  {
   "cell_type": "markdown",
   "id": "cce41c40",
   "metadata": {},
   "source": [
    "## 1.Standard Scaler :"
   ]
  },
  {
   "cell_type": "code",
   "execution_count": 24,
   "id": "657cd8d7",
   "metadata": {},
   "outputs": [],
   "source": [
    "# Fit transform\n",
    "\n",
    "scaled = pd.DataFrame(sc.fit_transform(df), columns = df.columns)"
   ]
  },
  {
   "cell_type": "code",
   "execution_count": 25,
   "id": "52743de4",
   "metadata": {},
   "outputs": [
    {
     "data": {
      "text/html": [
       "<div>\n",
       "<style scoped>\n",
       "    .dataframe tbody tr th:only-of-type {\n",
       "        vertical-align: middle;\n",
       "    }\n",
       "\n",
       "    .dataframe tbody tr th {\n",
       "        vertical-align: top;\n",
       "    }\n",
       "\n",
       "    .dataframe thead th {\n",
       "        text-align: right;\n",
       "    }\n",
       "</style>\n",
       "<table border=\"1\" class=\"dataframe\">\n",
       "  <thead>\n",
       "    <tr style=\"text-align: right;\">\n",
       "      <th></th>\n",
       "      <th>Item_Weight</th>\n",
       "      <th>Item_Visibility</th>\n",
       "      <th>Item_MRP</th>\n",
       "      <th>Outlet_Establishment_Year</th>\n",
       "      <th>Item_Outlet_Sales</th>\n",
       "    </tr>\n",
       "  </thead>\n",
       "  <tbody>\n",
       "    <tr>\n",
       "      <th>count</th>\n",
       "      <td>8.523000e+03</td>\n",
       "      <td>8.523000e+03</td>\n",
       "      <td>8.523000e+03</td>\n",
       "      <td>8.523000e+03</td>\n",
       "      <td>8.523000e+03</td>\n",
       "    </tr>\n",
       "    <tr>\n",
       "      <th>mean</th>\n",
       "      <td>4.538133e-16</td>\n",
       "      <td>-8.548444e-17</td>\n",
       "      <td>-1.644427e-16</td>\n",
       "      <td>1.135381e-14</td>\n",
       "      <td>1.631662e-16</td>\n",
       "    </tr>\n",
       "    <tr>\n",
       "      <th>std</th>\n",
       "      <td>1.000059e+00</td>\n",
       "      <td>1.000059e+00</td>\n",
       "      <td>1.000059e+00</td>\n",
       "      <td>1.000059e+00</td>\n",
       "      <td>1.000059e+00</td>\n",
       "    </tr>\n",
       "    <tr>\n",
       "      <th>min</th>\n",
       "      <td>-1.791344e+00</td>\n",
       "      <td>-1.281758e+00</td>\n",
       "      <td>-1.761688e+00</td>\n",
       "      <td>-1.532846e+00</td>\n",
       "      <td>-1.258790e+00</td>\n",
       "    </tr>\n",
       "    <tr>\n",
       "      <th>25%</th>\n",
       "      <td>-8.806403e-01</td>\n",
       "      <td>-7.586531e-01</td>\n",
       "      <td>-7.574307e-01</td>\n",
       "      <td>-1.293934e+00</td>\n",
       "      <td>-7.894057e-01</td>\n",
       "    </tr>\n",
       "    <tr>\n",
       "      <th>50%</th>\n",
       "      <td>-4.851951e-02</td>\n",
       "      <td>-2.364792e-01</td>\n",
       "      <td>3.243893e-02</td>\n",
       "      <td>1.395408e-01</td>\n",
       "      <td>-2.267687e-01</td>\n",
       "    </tr>\n",
       "    <tr>\n",
       "      <th>75%</th>\n",
       "      <td>8.557256e-01</td>\n",
       "      <td>5.514755e-01</td>\n",
       "      <td>7.170372e-01</td>\n",
       "      <td>7.368218e-01</td>\n",
       "      <td>5.391513e-01</td>\n",
       "    </tr>\n",
       "    <tr>\n",
       "      <th>max</th>\n",
       "      <td>1.824560e+00</td>\n",
       "      <td>5.083050e+00</td>\n",
       "      <td>2.021724e+00</td>\n",
       "      <td>1.334103e+00</td>\n",
       "      <td>6.391045e+00</td>\n",
       "    </tr>\n",
       "  </tbody>\n",
       "</table>\n",
       "</div>"
      ],
      "text/plain": [
       "        Item_Weight  Item_Visibility      Item_MRP  Outlet_Establishment_Year  \\\n",
       "count  8.523000e+03     8.523000e+03  8.523000e+03               8.523000e+03   \n",
       "mean   4.538133e-16    -8.548444e-17 -1.644427e-16               1.135381e-14   \n",
       "std    1.000059e+00     1.000059e+00  1.000059e+00               1.000059e+00   \n",
       "min   -1.791344e+00    -1.281758e+00 -1.761688e+00              -1.532846e+00   \n",
       "25%   -8.806403e-01    -7.586531e-01 -7.574307e-01              -1.293934e+00   \n",
       "50%   -4.851951e-02    -2.364792e-01  3.243893e-02               1.395408e-01   \n",
       "75%    8.557256e-01     5.514755e-01  7.170372e-01               7.368218e-01   \n",
       "max    1.824560e+00     5.083050e+00  2.021724e+00               1.334103e+00   \n",
       "\n",
       "       Item_Outlet_Sales  \n",
       "count       8.523000e+03  \n",
       "mean        1.631662e-16  \n",
       "std         1.000059e+00  \n",
       "min        -1.258790e+00  \n",
       "25%        -7.894057e-01  \n",
       "50%        -2.267687e-01  \n",
       "75%         5.391513e-01  \n",
       "max         6.391045e+00  "
      ]
     },
     "execution_count": 25,
     "metadata": {},
     "output_type": "execute_result"
    }
   ],
   "source": [
    "scaled.describe()\n",
    "# Mean is 0.\n",
    "# Std deviation is 1."
   ]
  },
  {
   "cell_type": "markdown",
   "id": "87733e1b",
   "metadata": {},
   "source": [
    "## 2. MInMax Scaler :"
   ]
  },
  {
   "cell_type": "code",
   "execution_count": 26,
   "id": "f10cab19",
   "metadata": {},
   "outputs": [],
   "source": [
    "# Min Max Scaler Transformation.\n",
    "scaled_mmax = pd.DataFrame(mmax.fit_transform(df), columns = df.columns)"
   ]
  },
  {
   "cell_type": "code",
   "execution_count": 27,
   "id": "b933ee41",
   "metadata": {},
   "outputs": [
    {
     "data": {
      "text/html": [
       "<div>\n",
       "<style scoped>\n",
       "    .dataframe tbody tr th:only-of-type {\n",
       "        vertical-align: middle;\n",
       "    }\n",
       "\n",
       "    .dataframe tbody tr th {\n",
       "        vertical-align: top;\n",
       "    }\n",
       "\n",
       "    .dataframe thead th {\n",
       "        text-align: right;\n",
       "    }\n",
       "</style>\n",
       "<table border=\"1\" class=\"dataframe\">\n",
       "  <thead>\n",
       "    <tr style=\"text-align: right;\">\n",
       "      <th></th>\n",
       "      <th>Item_Weight</th>\n",
       "      <th>Item_Visibility</th>\n",
       "      <th>Item_MRP</th>\n",
       "      <th>Outlet_Establishment_Year</th>\n",
       "      <th>Item_Outlet_Sales</th>\n",
       "    </tr>\n",
       "  </thead>\n",
       "  <tbody>\n",
       "    <tr>\n",
       "      <th>count</th>\n",
       "      <td>8523.000000</td>\n",
       "      <td>8523.000000</td>\n",
       "      <td>8523.000000</td>\n",
       "      <td>8523.000000</td>\n",
       "      <td>8523.000000</td>\n",
       "    </tr>\n",
       "    <tr>\n",
       "      <th>mean</th>\n",
       "      <td>0.495407</td>\n",
       "      <td>0.201382</td>\n",
       "      <td>0.465635</td>\n",
       "      <td>0.534661</td>\n",
       "      <td>0.164551</td>\n",
       "    </tr>\n",
       "    <tr>\n",
       "      <th>std</th>\n",
       "      <td>0.276572</td>\n",
       "      <td>0.157123</td>\n",
       "      <td>0.264327</td>\n",
       "      <td>0.348823</td>\n",
       "      <td>0.130729</td>\n",
       "    </tr>\n",
       "    <tr>\n",
       "      <th>min</th>\n",
       "      <td>0.000000</td>\n",
       "      <td>0.000000</td>\n",
       "      <td>0.000000</td>\n",
       "      <td>0.000000</td>\n",
       "      <td>0.000000</td>\n",
       "    </tr>\n",
       "    <tr>\n",
       "      <th>25%</th>\n",
       "      <td>0.251861</td>\n",
       "      <td>0.082187</td>\n",
       "      <td>0.265437</td>\n",
       "      <td>0.083333</td>\n",
       "      <td>0.061359</td>\n",
       "    </tr>\n",
       "    <tr>\n",
       "      <th>50%</th>\n",
       "      <td>0.481989</td>\n",
       "      <td>0.164228</td>\n",
       "      <td>0.474209</td>\n",
       "      <td>0.583333</td>\n",
       "      <td>0.134908</td>\n",
       "    </tr>\n",
       "    <tr>\n",
       "      <th>75%</th>\n",
       "      <td>0.732063</td>\n",
       "      <td>0.288026</td>\n",
       "      <td>0.655156</td>\n",
       "      <td>0.791667</td>\n",
       "      <td>0.235030</td>\n",
       "    </tr>\n",
       "    <tr>\n",
       "      <th>max</th>\n",
       "      <td>1.000000</td>\n",
       "      <td>1.000000</td>\n",
       "      <td>1.000000</td>\n",
       "      <td>1.000000</td>\n",
       "      <td>1.000000</td>\n",
       "    </tr>\n",
       "  </tbody>\n",
       "</table>\n",
       "</div>"
      ],
      "text/plain": [
       "       Item_Weight  Item_Visibility     Item_MRP  Outlet_Establishment_Year  \\\n",
       "count  8523.000000      8523.000000  8523.000000                8523.000000   \n",
       "mean      0.495407         0.201382     0.465635                   0.534661   \n",
       "std       0.276572         0.157123     0.264327                   0.348823   \n",
       "min       0.000000         0.000000     0.000000                   0.000000   \n",
       "25%       0.251861         0.082187     0.265437                   0.083333   \n",
       "50%       0.481989         0.164228     0.474209                   0.583333   \n",
       "75%       0.732063         0.288026     0.655156                   0.791667   \n",
       "max       1.000000         1.000000     1.000000                   1.000000   \n",
       "\n",
       "       Item_Outlet_Sales  \n",
       "count        8523.000000  \n",
       "mean            0.164551  \n",
       "std             0.130729  \n",
       "min             0.000000  \n",
       "25%             0.061359  \n",
       "50%             0.134908  \n",
       "75%             0.235030  \n",
       "max             1.000000  "
      ]
     },
     "execution_count": 27,
     "metadata": {},
     "output_type": "execute_result"
    }
   ],
   "source": [
    "scaled_mmax.describe()\n",
    "\n",
    "# Min is 0.\n",
    "# Max is 1."
   ]
  },
  {
   "cell_type": "markdown",
   "id": "5aad8a9c",
   "metadata": {},
   "source": [
    "# SUMMARY :\n",
    "### About Normal Distribution :\n",
    "* It is a bell shaped curve.\n",
    "* The total area under the curve is 1.\n",
    "* The probability under the AUC is between 0 and 1.\n",
    "* The Normal Distribution can be converted into standard normal distribution where the mean of the data will be 0 and SD will be 1.\n",
    "\n",
    "**Empirical Rule :**\n",
    "* 68% of Data lies in one standard devitation in normal distribution.\n",
    "* 95% of Data lies between 2 std deviation.\n",
    "* 99.7% of Data lies between 3 std deviation.\n",
    "\n",
    "Note : Any value that lies above 3 sigma or below 3 sigma is an Outlier."
   ]
  },
  {
   "cell_type": "markdown",
   "id": "5cedc80f",
   "metadata": {},
   "source": [
    "\n",
    "# Cat Variable :\n",
    "* One Hot Encoding    : Gives identity matrix.\n",
    "* Label Encoding      : When there is order in category use label encoding. eg- Outlet_Size (Large > Medium > Small) DOne only on target variable.\n",
    "* Frequency Encoding.\n",
    "* Target Encoding.\n",
    "* Ordinal Encoding.\n",
    "\n",
    "**Note on One Hot Encoding and Label Encoding** :\n",
    "* One Hot Encoding encodes the data in 0 and 1.\n",
    "* It means each and every column is 0 and 1 at the same time.\n",
    "* It is popularly used for those categorical variables which has no order.\n",
    "* In case the categorical variables have order, then it makes sense to use label Encoder.\n",
    "* One Hot Encoder converts all the categories in 0 and 1 and therefore, iy generates as many new columnsas the count of categories.\n",
    "* IN case of Label Encoding, it is used when the categories are Ordinal in Nature. It means that the categories have a certain order and we can say that 3>2>1.\n",
    "* The key aspect of LE is that encodes the categories alphabatically."
   ]
  },
  {
   "cell_type": "code",
   "execution_count": 28,
   "id": "61e3ca78",
   "metadata": {},
   "outputs": [
    {
     "data": {
      "text/plain": [
       "Index(['Item_Identifier', 'Item_Fat_Content', 'Item_Type', 'Outlet_Identifier',\n",
       "       'Outlet_Size', 'Outlet_Location_Type', 'Outlet_Type'],\n",
       "      dtype='object')"
      ]
     },
     "execution_count": 28,
     "metadata": {},
     "output_type": "execute_result"
    }
   ],
   "source": [
    "sales.select_dtypes(include='object').columns"
   ]
  },
  {
   "cell_type": "code",
   "execution_count": 29,
   "id": "1b1f52df",
   "metadata": {},
   "outputs": [
    {
     "data": {
      "text/plain": [
       "array(['Dairy', 'Soft Drinks', 'Meat', 'Fruits and Vegetables',\n",
       "       'Household', 'Baking Goods', 'Snack Foods', 'Frozen Foods',\n",
       "       'Breakfast', 'Health and Hygiene', 'Hard Drinks', 'Canned',\n",
       "       'Breads', 'Starchy Foods', 'Others', 'Seafood'], dtype=object)"
      ]
     },
     "execution_count": 29,
     "metadata": {},
     "output_type": "execute_result"
    }
   ],
   "source": [
    "sales.Item_Type.unique()"
   ]
  },
  {
   "cell_type": "code",
   "execution_count": 30,
   "id": "724da825",
   "metadata": {},
   "outputs": [
    {
     "data": {
      "text/plain": [
       "(8523, 1605)"
      ]
     },
     "execution_count": 30,
     "metadata": {},
     "output_type": "execute_result"
    }
   ],
   "source": [
    "# Problem with One Hot Encoding.\n",
    "pd.get_dummies(sales).shape"
   ]
  },
  {
   "cell_type": "code",
   "execution_count": 31,
   "id": "a933aed2",
   "metadata": {},
   "outputs": [
    {
     "data": {
      "text/plain": [
       "(8523, 12)"
      ]
     },
     "execution_count": 31,
     "metadata": {},
     "output_type": "execute_result"
    }
   ],
   "source": [
    "sales.shape"
   ]
  },
  {
   "cell_type": "code",
   "execution_count": 32,
   "id": "8bb1e299",
   "metadata": {},
   "outputs": [
    {
     "data": {
      "text/html": [
       "<div>\n",
       "<style scoped>\n",
       "    .dataframe tbody tr th:only-of-type {\n",
       "        vertical-align: middle;\n",
       "    }\n",
       "\n",
       "    .dataframe tbody tr th {\n",
       "        vertical-align: top;\n",
       "    }\n",
       "\n",
       "    .dataframe thead th {\n",
       "        text-align: right;\n",
       "    }\n",
       "</style>\n",
       "<table border=\"1\" class=\"dataframe\">\n",
       "  <thead>\n",
       "    <tr style=\"text-align: right;\">\n",
       "      <th></th>\n",
       "      <th>Item_Identifier</th>\n",
       "      <th>Item_Weight</th>\n",
       "      <th>Item_Fat_Content</th>\n",
       "      <th>Item_Visibility</th>\n",
       "      <th>Item_Type</th>\n",
       "      <th>Item_MRP</th>\n",
       "      <th>Outlet_Identifier</th>\n",
       "      <th>Outlet_Establishment_Year</th>\n",
       "      <th>Outlet_Size</th>\n",
       "      <th>Outlet_Location_Type</th>\n",
       "      <th>Outlet_Type</th>\n",
       "      <th>Item_Outlet_Sales</th>\n",
       "    </tr>\n",
       "  </thead>\n",
       "  <tbody>\n",
       "    <tr>\n",
       "      <th>0</th>\n",
       "      <td>FDA15</td>\n",
       "      <td>9.30</td>\n",
       "      <td>Low Fat</td>\n",
       "      <td>0.016047</td>\n",
       "      <td>Dairy</td>\n",
       "      <td>249.8092</td>\n",
       "      <td>OUT049</td>\n",
       "      <td>1999</td>\n",
       "      <td>Medium</td>\n",
       "      <td>Tier 1</td>\n",
       "      <td>Supermarket Type1</td>\n",
       "      <td>3735.1380</td>\n",
       "    </tr>\n",
       "    <tr>\n",
       "      <th>1</th>\n",
       "      <td>DRC01</td>\n",
       "      <td>5.92</td>\n",
       "      <td>Regular</td>\n",
       "      <td>0.019278</td>\n",
       "      <td>Soft Drinks</td>\n",
       "      <td>48.2692</td>\n",
       "      <td>OUT018</td>\n",
       "      <td>2009</td>\n",
       "      <td>Medium</td>\n",
       "      <td>Tier 3</td>\n",
       "      <td>Supermarket Type2</td>\n",
       "      <td>443.4228</td>\n",
       "    </tr>\n",
       "  </tbody>\n",
       "</table>\n",
       "</div>"
      ],
      "text/plain": [
       "  Item_Identifier  Item_Weight Item_Fat_Content  Item_Visibility    Item_Type  \\\n",
       "0           FDA15         9.30          Low Fat         0.016047        Dairy   \n",
       "1           DRC01         5.92          Regular         0.019278  Soft Drinks   \n",
       "\n",
       "   Item_MRP Outlet_Identifier  Outlet_Establishment_Year Outlet_Size  \\\n",
       "0  249.8092            OUT049                       1999      Medium   \n",
       "1   48.2692            OUT018                       2009      Medium   \n",
       "\n",
       "  Outlet_Location_Type        Outlet_Type  Item_Outlet_Sales  \n",
       "0               Tier 1  Supermarket Type1          3735.1380  \n",
       "1               Tier 3  Supermarket Type2           443.4228  "
      ]
     },
     "execution_count": 32,
     "metadata": {},
     "output_type": "execute_result"
    }
   ],
   "source": [
    "sales.head(2)"
   ]
  },
  {
   "cell_type": "markdown",
   "id": "e8e1de22",
   "metadata": {},
   "source": [
    "### Frequency Encoding :"
   ]
  },
  {
   "cell_type": "code",
   "execution_count": 33,
   "id": "73da048f",
   "metadata": {},
   "outputs": [],
   "source": [
    "# On Item_Type.\n",
    "mapped=sales.Item_Type.value_counts(normalize=True).to_dict()\n",
    "\n",
    "# Fq encoding will not work perfectly if two categories have same value\n",
    "# Should be used when every category has different values."
   ]
  },
  {
   "cell_type": "code",
   "execution_count": 34,
   "id": "bddc353d",
   "metadata": {},
   "outputs": [],
   "source": [
    "sales['Item_Type_Percent'] = sales.Item_Type.map(mapped)"
   ]
  },
  {
   "cell_type": "code",
   "execution_count": 35,
   "id": "88f47dd3",
   "metadata": {},
   "outputs": [
    {
     "data": {
      "text/plain": [
       "OUT027    0.109703\n",
       "OUT013    0.109351\n",
       "OUT049    0.109117\n",
       "OUT046    0.109117\n",
       "OUT035    0.109117\n",
       "OUT045    0.108999\n",
       "OUT018    0.108882\n",
       "OUT017    0.108647\n",
       "OUT010    0.065118\n",
       "OUT019    0.061950\n",
       "Name: Outlet_Identifier, dtype: float64"
      ]
     },
     "execution_count": 35,
     "metadata": {},
     "output_type": "execute_result"
    }
   ],
   "source": [
    "# On Outlet_Identifier.\n",
    "sales.Outlet_Identifier.value_counts(normalize=True)\n",
    "\n",
    "# Since Outlet 49,46,35 have same fq encoding thats why we cant have it as encoding."
   ]
  },
  {
   "cell_type": "markdown",
   "id": "5b8208b2",
   "metadata": {},
   "source": [
    "#### Target encoding for Outlet ID :"
   ]
  },
  {
   "cell_type": "code",
   "execution_count": 36,
   "id": "6eb83013",
   "metadata": {},
   "outputs": [],
   "source": [
    "mapped = sales.groupby('Outlet_Identifier')['Item_Outlet_Sales'].median().to_dict()"
   ]
  },
  {
   "cell_type": "code",
   "execution_count": 37,
   "id": "d910177f",
   "metadata": {},
   "outputs": [],
   "source": [
    "sales['Outlet_ID'] = sales.Outlet_Identifier.map(mapped)"
   ]
  },
  {
   "cell_type": "code",
   "execution_count": 38,
   "id": "5480639c",
   "metadata": {},
   "outputs": [
    {
     "data": {
      "text/html": [
       "<div>\n",
       "<style scoped>\n",
       "    .dataframe tbody tr th:only-of-type {\n",
       "        vertical-align: middle;\n",
       "    }\n",
       "\n",
       "    .dataframe tbody tr th {\n",
       "        vertical-align: top;\n",
       "    }\n",
       "\n",
       "    .dataframe thead th {\n",
       "        text-align: right;\n",
       "    }\n",
       "</style>\n",
       "<table border=\"1\" class=\"dataframe\">\n",
       "  <thead>\n",
       "    <tr style=\"text-align: right;\">\n",
       "      <th></th>\n",
       "      <th>Item_Identifier</th>\n",
       "      <th>Item_Weight</th>\n",
       "      <th>Item_Fat_Content</th>\n",
       "      <th>Item_Visibility</th>\n",
       "      <th>Item_Type</th>\n",
       "      <th>Item_MRP</th>\n",
       "      <th>Outlet_Identifier</th>\n",
       "      <th>Outlet_Establishment_Year</th>\n",
       "      <th>Outlet_Size</th>\n",
       "      <th>Outlet_Location_Type</th>\n",
       "      <th>Outlet_Type</th>\n",
       "      <th>Item_Outlet_Sales</th>\n",
       "      <th>Item_Type_Percent</th>\n",
       "      <th>Outlet_ID</th>\n",
       "    </tr>\n",
       "  </thead>\n",
       "  <tbody>\n",
       "    <tr>\n",
       "      <th>0</th>\n",
       "      <td>FDA15</td>\n",
       "      <td>9.30</td>\n",
       "      <td>Low Fat</td>\n",
       "      <td>0.016047</td>\n",
       "      <td>Dairy</td>\n",
       "      <td>249.8092</td>\n",
       "      <td>OUT049</td>\n",
       "      <td>1999</td>\n",
       "      <td>Medium</td>\n",
       "      <td>Tier 1</td>\n",
       "      <td>Supermarket Type1</td>\n",
       "      <td>3735.1380</td>\n",
       "      <td>0.080019</td>\n",
       "      <td>1966.1074</td>\n",
       "    </tr>\n",
       "    <tr>\n",
       "      <th>1</th>\n",
       "      <td>DRC01</td>\n",
       "      <td>5.92</td>\n",
       "      <td>Regular</td>\n",
       "      <td>0.019278</td>\n",
       "      <td>Soft Drinks</td>\n",
       "      <td>48.2692</td>\n",
       "      <td>OUT018</td>\n",
       "      <td>2009</td>\n",
       "      <td>Medium</td>\n",
       "      <td>Tier 3</td>\n",
       "      <td>Supermarket Type2</td>\n",
       "      <td>443.4228</td>\n",
       "      <td>0.052212</td>\n",
       "      <td>1655.1788</td>\n",
       "    </tr>\n",
       "    <tr>\n",
       "      <th>2</th>\n",
       "      <td>FDN15</td>\n",
       "      <td>17.50</td>\n",
       "      <td>Low Fat</td>\n",
       "      <td>0.016760</td>\n",
       "      <td>Meat</td>\n",
       "      <td>141.6180</td>\n",
       "      <td>OUT049</td>\n",
       "      <td>1999</td>\n",
       "      <td>Medium</td>\n",
       "      <td>Tier 1</td>\n",
       "      <td>Supermarket Type1</td>\n",
       "      <td>2097.2700</td>\n",
       "      <td>0.049865</td>\n",
       "      <td>1966.1074</td>\n",
       "    </tr>\n",
       "    <tr>\n",
       "      <th>3</th>\n",
       "      <td>FDX07</td>\n",
       "      <td>19.20</td>\n",
       "      <td>Regular</td>\n",
       "      <td>0.000000</td>\n",
       "      <td>Fruits and Vegetables</td>\n",
       "      <td>182.0950</td>\n",
       "      <td>OUT010</td>\n",
       "      <td>1998</td>\n",
       "      <td>NaN</td>\n",
       "      <td>Tier 3</td>\n",
       "      <td>Grocery Store</td>\n",
       "      <td>732.3800</td>\n",
       "      <td>0.144550</td>\n",
       "      <td>250.3408</td>\n",
       "    </tr>\n",
       "    <tr>\n",
       "      <th>4</th>\n",
       "      <td>NCD19</td>\n",
       "      <td>8.93</td>\n",
       "      <td>Low Fat</td>\n",
       "      <td>0.000000</td>\n",
       "      <td>Household</td>\n",
       "      <td>53.8614</td>\n",
       "      <td>OUT013</td>\n",
       "      <td>1987</td>\n",
       "      <td>High</td>\n",
       "      <td>Tier 3</td>\n",
       "      <td>Supermarket Type1</td>\n",
       "      <td>994.7052</td>\n",
       "      <td>0.106770</td>\n",
       "      <td>2050.6640</td>\n",
       "    </tr>\n",
       "  </tbody>\n",
       "</table>\n",
       "</div>"
      ],
      "text/plain": [
       "  Item_Identifier  Item_Weight Item_Fat_Content  Item_Visibility  \\\n",
       "0           FDA15         9.30          Low Fat         0.016047   \n",
       "1           DRC01         5.92          Regular         0.019278   \n",
       "2           FDN15        17.50          Low Fat         0.016760   \n",
       "3           FDX07        19.20          Regular         0.000000   \n",
       "4           NCD19         8.93          Low Fat         0.000000   \n",
       "\n",
       "               Item_Type  Item_MRP Outlet_Identifier  \\\n",
       "0                  Dairy  249.8092            OUT049   \n",
       "1            Soft Drinks   48.2692            OUT018   \n",
       "2                   Meat  141.6180            OUT049   \n",
       "3  Fruits and Vegetables  182.0950            OUT010   \n",
       "4              Household   53.8614            OUT013   \n",
       "\n",
       "   Outlet_Establishment_Year Outlet_Size Outlet_Location_Type  \\\n",
       "0                       1999      Medium               Tier 1   \n",
       "1                       2009      Medium               Tier 3   \n",
       "2                       1999      Medium               Tier 1   \n",
       "3                       1998         NaN               Tier 3   \n",
       "4                       1987        High               Tier 3   \n",
       "\n",
       "         Outlet_Type  Item_Outlet_Sales  Item_Type_Percent  Outlet_ID  \n",
       "0  Supermarket Type1          3735.1380           0.080019  1966.1074  \n",
       "1  Supermarket Type2           443.4228           0.052212  1655.1788  \n",
       "2  Supermarket Type1          2097.2700           0.049865  1966.1074  \n",
       "3      Grocery Store           732.3800           0.144550   250.3408  \n",
       "4  Supermarket Type1           994.7052           0.106770  2050.6640  "
      ]
     },
     "execution_count": 38,
     "metadata": {},
     "output_type": "execute_result"
    }
   ],
   "source": [
    "sales.head()"
   ]
  },
  {
   "cell_type": "code",
   "execution_count": 39,
   "id": "68fbc609",
   "metadata": {},
   "outputs": [
    {
     "data": {
      "text/html": [
       "<div>\n",
       "<style scoped>\n",
       "    .dataframe tbody tr th:only-of-type {\n",
       "        vertical-align: middle;\n",
       "    }\n",
       "\n",
       "    .dataframe tbody tr th {\n",
       "        vertical-align: top;\n",
       "    }\n",
       "\n",
       "    .dataframe thead th {\n",
       "        text-align: right;\n",
       "    }\n",
       "</style>\n",
       "<table border=\"1\" class=\"dataframe\">\n",
       "  <thead>\n",
       "    <tr style=\"text-align: right;\">\n",
       "      <th></th>\n",
       "      <th>Item_Outlet_Sales</th>\n",
       "      <th>Outlet_ID</th>\n",
       "    </tr>\n",
       "  </thead>\n",
       "  <tbody>\n",
       "    <tr>\n",
       "      <th>Item_Outlet_Sales</th>\n",
       "      <td>1.000000</td>\n",
       "      <td>0.489391</td>\n",
       "    </tr>\n",
       "    <tr>\n",
       "      <th>Outlet_ID</th>\n",
       "      <td>0.489391</td>\n",
       "      <td>1.000000</td>\n",
       "    </tr>\n",
       "  </tbody>\n",
       "</table>\n",
       "</div>"
      ],
      "text/plain": [
       "                   Item_Outlet_Sales  Outlet_ID\n",
       "Item_Outlet_Sales           1.000000   0.489391\n",
       "Outlet_ID                   0.489391   1.000000"
      ]
     },
     "execution_count": 39,
     "metadata": {},
     "output_type": "execute_result"
    }
   ],
   "source": [
    "## Checking Correlation btw Item_Outlet_sales and Outlet_Id.\n",
    "\n",
    "sales.loc[:,['Item_Outlet_Sales','Outlet_ID']].corr()\n",
    "\n",
    "\n",
    "# It shows 48% correlation which is good correlation to go with."
   ]
  },
  {
   "cell_type": "markdown",
   "id": "ae8a29b4",
   "metadata": {},
   "source": [
    "## Binning the Cat Variable :"
   ]
  },
  {
   "cell_type": "code",
   "execution_count": 40,
   "id": "c3ad8015",
   "metadata": {},
   "outputs": [
    {
     "data": {
      "text/plain": [
       "array(['Dairy', 'Soft Drinks', 'Meat', 'Fruits and Vegetables',\n",
       "       'Household', 'Baking Goods', 'Snack Foods', 'Frozen Foods',\n",
       "       'Breakfast', 'Health and Hygiene', 'Hard Drinks', 'Canned',\n",
       "       'Breads', 'Starchy Foods', 'Others', 'Seafood'], dtype=object)"
      ]
     },
     "execution_count": 40,
     "metadata": {},
     "output_type": "execute_result"
    }
   ],
   "source": [
    "sales.Item_Type.unique()"
   ]
  },
  {
   "cell_type": "code",
   "execution_count": 41,
   "id": "f6c744f8",
   "metadata": {},
   "outputs": [],
   "source": [
    "# Perishables and Non Perishables.\n",
    "perish = ['Dairy','Meat', 'Fruits and Vegetables','Breakfast','Breads', 'Starchy Foods','Seafood']"
   ]
  },
  {
   "cell_type": "code",
   "execution_count": 42,
   "id": "8e438c20",
   "metadata": {},
   "outputs": [],
   "source": [
    "def perish_able(x):\n",
    "    if x in perish:\n",
    "        return ('Perishables')\n",
    "    else:\n",
    "        return ('Non_Perishables')"
   ]
  },
  {
   "cell_type": "code",
   "execution_count": 43,
   "id": "b5709b37",
   "metadata": {},
   "outputs": [],
   "source": [
    "sales['Item_Type_Cat'] = sales.Item_Type.apply(perish_able)"
   ]
  },
  {
   "cell_type": "code",
   "execution_count": 44,
   "id": "4e4e7438",
   "metadata": {},
   "outputs": [
    {
     "data": {
      "text/html": [
       "<div>\n",
       "<style scoped>\n",
       "    .dataframe tbody tr th:only-of-type {\n",
       "        vertical-align: middle;\n",
       "    }\n",
       "\n",
       "    .dataframe tbody tr th {\n",
       "        vertical-align: top;\n",
       "    }\n",
       "\n",
       "    .dataframe thead th {\n",
       "        text-align: right;\n",
       "    }\n",
       "</style>\n",
       "<table border=\"1\" class=\"dataframe\">\n",
       "  <thead>\n",
       "    <tr style=\"text-align: right;\">\n",
       "      <th></th>\n",
       "      <th>Item_Identifier</th>\n",
       "      <th>Item_Weight</th>\n",
       "      <th>Item_Fat_Content</th>\n",
       "      <th>Item_Visibility</th>\n",
       "      <th>Item_Type</th>\n",
       "      <th>Item_MRP</th>\n",
       "      <th>Outlet_Identifier</th>\n",
       "      <th>Outlet_Establishment_Year</th>\n",
       "      <th>Outlet_Size</th>\n",
       "      <th>Outlet_Location_Type</th>\n",
       "      <th>Outlet_Type</th>\n",
       "      <th>Item_Outlet_Sales</th>\n",
       "      <th>Item_Type_Percent</th>\n",
       "      <th>Outlet_ID</th>\n",
       "      <th>Item_Type_Cat</th>\n",
       "    </tr>\n",
       "  </thead>\n",
       "  <tbody>\n",
       "    <tr>\n",
       "      <th>0</th>\n",
       "      <td>FDA15</td>\n",
       "      <td>9.30</td>\n",
       "      <td>Low Fat</td>\n",
       "      <td>0.016047</td>\n",
       "      <td>Dairy</td>\n",
       "      <td>249.8092</td>\n",
       "      <td>OUT049</td>\n",
       "      <td>1999</td>\n",
       "      <td>Medium</td>\n",
       "      <td>Tier 1</td>\n",
       "      <td>Supermarket Type1</td>\n",
       "      <td>3735.1380</td>\n",
       "      <td>0.080019</td>\n",
       "      <td>1966.1074</td>\n",
       "      <td>Perishables</td>\n",
       "    </tr>\n",
       "    <tr>\n",
       "      <th>1</th>\n",
       "      <td>DRC01</td>\n",
       "      <td>5.92</td>\n",
       "      <td>Regular</td>\n",
       "      <td>0.019278</td>\n",
       "      <td>Soft Drinks</td>\n",
       "      <td>48.2692</td>\n",
       "      <td>OUT018</td>\n",
       "      <td>2009</td>\n",
       "      <td>Medium</td>\n",
       "      <td>Tier 3</td>\n",
       "      <td>Supermarket Type2</td>\n",
       "      <td>443.4228</td>\n",
       "      <td>0.052212</td>\n",
       "      <td>1655.1788</td>\n",
       "      <td>Non_Perishables</td>\n",
       "    </tr>\n",
       "  </tbody>\n",
       "</table>\n",
       "</div>"
      ],
      "text/plain": [
       "  Item_Identifier  Item_Weight Item_Fat_Content  Item_Visibility    Item_Type  \\\n",
       "0           FDA15         9.30          Low Fat         0.016047        Dairy   \n",
       "1           DRC01         5.92          Regular         0.019278  Soft Drinks   \n",
       "\n",
       "   Item_MRP Outlet_Identifier  Outlet_Establishment_Year Outlet_Size  \\\n",
       "0  249.8092            OUT049                       1999      Medium   \n",
       "1   48.2692            OUT018                       2009      Medium   \n",
       "\n",
       "  Outlet_Location_Type        Outlet_Type  Item_Outlet_Sales  \\\n",
       "0               Tier 1  Supermarket Type1          3735.1380   \n",
       "1               Tier 3  Supermarket Type2           443.4228   \n",
       "\n",
       "   Item_Type_Percent  Outlet_ID    Item_Type_Cat  \n",
       "0           0.080019  1966.1074      Perishables  \n",
       "1           0.052212  1655.1788  Non_Perishables  "
      ]
     },
     "execution_count": 44,
     "metadata": {},
     "output_type": "execute_result"
    }
   ],
   "source": [
    "sales.head(2)"
   ]
  },
  {
   "cell_type": "code",
   "execution_count": 45,
   "id": "90c50322",
   "metadata": {},
   "outputs": [],
   "source": [
    "# Drop the  Outlet Est Year and Outlet ID.\n",
    "\n",
    "newsales = sales.drop(['Outlet_Establishment_Year','Outlet_Identifier'],axis = 1)"
   ]
  },
  {
   "cell_type": "code",
   "execution_count": 47,
   "id": "74ad5a13",
   "metadata": {},
   "outputs": [
    {
     "data": {
      "text/html": [
       "<div>\n",
       "<style scoped>\n",
       "    .dataframe tbody tr th:only-of-type {\n",
       "        vertical-align: middle;\n",
       "    }\n",
       "\n",
       "    .dataframe tbody tr th {\n",
       "        vertical-align: top;\n",
       "    }\n",
       "\n",
       "    .dataframe thead th {\n",
       "        text-align: right;\n",
       "    }\n",
       "</style>\n",
       "<table border=\"1\" class=\"dataframe\">\n",
       "  <thead>\n",
       "    <tr style=\"text-align: right;\">\n",
       "      <th></th>\n",
       "      <th>Item_Identifier</th>\n",
       "      <th>Item_Weight</th>\n",
       "      <th>Item_Fat_Content</th>\n",
       "      <th>Item_Visibility</th>\n",
       "      <th>Item_Type</th>\n",
       "      <th>Item_MRP</th>\n",
       "      <th>Outlet_Size</th>\n",
       "      <th>Outlet_Location_Type</th>\n",
       "      <th>Outlet_Type</th>\n",
       "      <th>Item_Outlet_Sales</th>\n",
       "      <th>Item_Type_Percent</th>\n",
       "      <th>Outlet_ID</th>\n",
       "      <th>Item_Type_Cat</th>\n",
       "    </tr>\n",
       "  </thead>\n",
       "  <tbody>\n",
       "    <tr>\n",
       "      <th>0</th>\n",
       "      <td>FDA15</td>\n",
       "      <td>9.30</td>\n",
       "      <td>Low Fat</td>\n",
       "      <td>0.016047</td>\n",
       "      <td>Dairy</td>\n",
       "      <td>249.8092</td>\n",
       "      <td>Medium</td>\n",
       "      <td>Tier 1</td>\n",
       "      <td>Supermarket Type1</td>\n",
       "      <td>3735.1380</td>\n",
       "      <td>0.080019</td>\n",
       "      <td>1966.1074</td>\n",
       "      <td>Perishables</td>\n",
       "    </tr>\n",
       "    <tr>\n",
       "      <th>1</th>\n",
       "      <td>DRC01</td>\n",
       "      <td>5.92</td>\n",
       "      <td>Regular</td>\n",
       "      <td>0.019278</td>\n",
       "      <td>Soft Drinks</td>\n",
       "      <td>48.2692</td>\n",
       "      <td>Medium</td>\n",
       "      <td>Tier 3</td>\n",
       "      <td>Supermarket Type2</td>\n",
       "      <td>443.4228</td>\n",
       "      <td>0.052212</td>\n",
       "      <td>1655.1788</td>\n",
       "      <td>Non_Perishables</td>\n",
       "    </tr>\n",
       "    <tr>\n",
       "      <th>2</th>\n",
       "      <td>FDN15</td>\n",
       "      <td>17.50</td>\n",
       "      <td>Low Fat</td>\n",
       "      <td>0.016760</td>\n",
       "      <td>Meat</td>\n",
       "      <td>141.6180</td>\n",
       "      <td>Medium</td>\n",
       "      <td>Tier 1</td>\n",
       "      <td>Supermarket Type1</td>\n",
       "      <td>2097.2700</td>\n",
       "      <td>0.049865</td>\n",
       "      <td>1966.1074</td>\n",
       "      <td>Perishables</td>\n",
       "    </tr>\n",
       "    <tr>\n",
       "      <th>3</th>\n",
       "      <td>FDX07</td>\n",
       "      <td>19.20</td>\n",
       "      <td>Regular</td>\n",
       "      <td>0.000000</td>\n",
       "      <td>Fruits and Vegetables</td>\n",
       "      <td>182.0950</td>\n",
       "      <td>NaN</td>\n",
       "      <td>Tier 3</td>\n",
       "      <td>Grocery Store</td>\n",
       "      <td>732.3800</td>\n",
       "      <td>0.144550</td>\n",
       "      <td>250.3408</td>\n",
       "      <td>Perishables</td>\n",
       "    </tr>\n",
       "    <tr>\n",
       "      <th>4</th>\n",
       "      <td>NCD19</td>\n",
       "      <td>8.93</td>\n",
       "      <td>Low Fat</td>\n",
       "      <td>0.000000</td>\n",
       "      <td>Household</td>\n",
       "      <td>53.8614</td>\n",
       "      <td>High</td>\n",
       "      <td>Tier 3</td>\n",
       "      <td>Supermarket Type1</td>\n",
       "      <td>994.7052</td>\n",
       "      <td>0.106770</td>\n",
       "      <td>2050.6640</td>\n",
       "      <td>Non_Perishables</td>\n",
       "    </tr>\n",
       "  </tbody>\n",
       "</table>\n",
       "</div>"
      ],
      "text/plain": [
       "  Item_Identifier  Item_Weight Item_Fat_Content  Item_Visibility  \\\n",
       "0           FDA15         9.30          Low Fat         0.016047   \n",
       "1           DRC01         5.92          Regular         0.019278   \n",
       "2           FDN15        17.50          Low Fat         0.016760   \n",
       "3           FDX07        19.20          Regular         0.000000   \n",
       "4           NCD19         8.93          Low Fat         0.000000   \n",
       "\n",
       "               Item_Type  Item_MRP Outlet_Size Outlet_Location_Type  \\\n",
       "0                  Dairy  249.8092      Medium               Tier 1   \n",
       "1            Soft Drinks   48.2692      Medium               Tier 3   \n",
       "2                   Meat  141.6180      Medium               Tier 1   \n",
       "3  Fruits and Vegetables  182.0950         NaN               Tier 3   \n",
       "4              Household   53.8614        High               Tier 3   \n",
       "\n",
       "         Outlet_Type  Item_Outlet_Sales  Item_Type_Percent  Outlet_ID  \\\n",
       "0  Supermarket Type1          3735.1380           0.080019  1966.1074   \n",
       "1  Supermarket Type2           443.4228           0.052212  1655.1788   \n",
       "2  Supermarket Type1          2097.2700           0.049865  1966.1074   \n",
       "3      Grocery Store           732.3800           0.144550   250.3408   \n",
       "4  Supermarket Type1           994.7052           0.106770  2050.6640   \n",
       "\n",
       "     Item_Type_Cat  \n",
       "0      Perishables  \n",
       "1  Non_Perishables  \n",
       "2      Perishables  \n",
       "3      Perishables  \n",
       "4  Non_Perishables  "
      ]
     },
     "execution_count": 47,
     "metadata": {},
     "output_type": "execute_result"
    }
   ],
   "source": [
    "newsales.head()"
   ]
  },
  {
   "cell_type": "markdown",
   "id": "4303c500",
   "metadata": {},
   "source": [
    "## Feature Engineering :"
   ]
  },
  {
   "cell_type": "markdown",
   "id": "9d025ebb",
   "metadata": {},
   "source": [
    "* Extracting new feature from exisiting feature."
   ]
  },
  {
   "cell_type": "code",
   "execution_count": null,
   "id": "7bcc9009",
   "metadata": {},
   "outputs": [],
   "source": [
    "# Extracting the first 02 letters from the Item ID."
   ]
  },
  {
   "cell_type": "code",
   "execution_count": 48,
   "id": "8af92fe4",
   "metadata": {},
   "outputs": [],
   "source": [
    "ids= []\n",
    "\n",
    "for i in newsales.Item_Identifier:\n",
    "    ids.append(i[:2])"
   ]
  },
  {
   "cell_type": "code",
   "execution_count": 49,
   "id": "a0a2edb0",
   "metadata": {},
   "outputs": [],
   "source": [
    "newsales['Item_Identifier'] = pd.Series(ids)"
   ]
  },
  {
   "cell_type": "code",
   "execution_count": 50,
   "id": "b340992b",
   "metadata": {},
   "outputs": [
    {
     "data": {
      "text/html": [
       "<div>\n",
       "<style scoped>\n",
       "    .dataframe tbody tr th:only-of-type {\n",
       "        vertical-align: middle;\n",
       "    }\n",
       "\n",
       "    .dataframe tbody tr th {\n",
       "        vertical-align: top;\n",
       "    }\n",
       "\n",
       "    .dataframe thead th {\n",
       "        text-align: right;\n",
       "    }\n",
       "</style>\n",
       "<table border=\"1\" class=\"dataframe\">\n",
       "  <thead>\n",
       "    <tr style=\"text-align: right;\">\n",
       "      <th></th>\n",
       "      <th>Item_Identifier</th>\n",
       "      <th>Item_Weight</th>\n",
       "      <th>Item_Fat_Content</th>\n",
       "      <th>Item_Visibility</th>\n",
       "      <th>Item_Type</th>\n",
       "      <th>Item_MRP</th>\n",
       "      <th>Outlet_Size</th>\n",
       "      <th>Outlet_Location_Type</th>\n",
       "      <th>Outlet_Type</th>\n",
       "      <th>Item_Outlet_Sales</th>\n",
       "      <th>Item_Type_Percent</th>\n",
       "      <th>Outlet_ID</th>\n",
       "      <th>Item_Type_Cat</th>\n",
       "    </tr>\n",
       "  </thead>\n",
       "  <tbody>\n",
       "    <tr>\n",
       "      <th>0</th>\n",
       "      <td>FD</td>\n",
       "      <td>9.30</td>\n",
       "      <td>Low Fat</td>\n",
       "      <td>0.016047</td>\n",
       "      <td>Dairy</td>\n",
       "      <td>249.8092</td>\n",
       "      <td>Medium</td>\n",
       "      <td>Tier 1</td>\n",
       "      <td>Supermarket Type1</td>\n",
       "      <td>3735.1380</td>\n",
       "      <td>0.080019</td>\n",
       "      <td>1966.1074</td>\n",
       "      <td>Perishables</td>\n",
       "    </tr>\n",
       "    <tr>\n",
       "      <th>1</th>\n",
       "      <td>DR</td>\n",
       "      <td>5.92</td>\n",
       "      <td>Regular</td>\n",
       "      <td>0.019278</td>\n",
       "      <td>Soft Drinks</td>\n",
       "      <td>48.2692</td>\n",
       "      <td>Medium</td>\n",
       "      <td>Tier 3</td>\n",
       "      <td>Supermarket Type2</td>\n",
       "      <td>443.4228</td>\n",
       "      <td>0.052212</td>\n",
       "      <td>1655.1788</td>\n",
       "      <td>Non_Perishables</td>\n",
       "    </tr>\n",
       "  </tbody>\n",
       "</table>\n",
       "</div>"
      ],
      "text/plain": [
       "  Item_Identifier  Item_Weight Item_Fat_Content  Item_Visibility    Item_Type  \\\n",
       "0              FD         9.30          Low Fat         0.016047        Dairy   \n",
       "1              DR         5.92          Regular         0.019278  Soft Drinks   \n",
       "\n",
       "   Item_MRP Outlet_Size Outlet_Location_Type        Outlet_Type  \\\n",
       "0  249.8092      Medium               Tier 1  Supermarket Type1   \n",
       "1   48.2692      Medium               Tier 3  Supermarket Type2   \n",
       "\n",
       "   Item_Outlet_Sales  Item_Type_Percent  Outlet_ID    Item_Type_Cat  \n",
       "0          3735.1380           0.080019  1966.1074      Perishables  \n",
       "1           443.4228           0.052212  1655.1788  Non_Perishables  "
      ]
     },
     "execution_count": 50,
     "metadata": {},
     "output_type": "execute_result"
    }
   ],
   "source": [
    "newsales.head(2)"
   ]
  },
  {
   "cell_type": "code",
   "execution_count": 52,
   "id": "0b55efbb",
   "metadata": {},
   "outputs": [
    {
     "data": {
      "image/png": "[encoded data removed]",
      "text/plain": [
       "<Figure size 1080x432 with 1 Axes>"
      ]
     },
     "metadata": {
      "needs_background": "light"
     },
     "output_type": "display_data"
    }
   ],
   "source": [
    "# Checking pattern : Boxplot btw Id and sales.\n",
    "sns.boxplot(newsales.Item_Identifier,newsales.Item_Outlet_Sales)\n",
    "plt.show()"
   ]
  },
  {
   "cell_type": "code",
   "execution_count": 53,
   "id": "2b44448d",
   "metadata": {},
   "outputs": [
    {
     "data": {
      "text/plain": [
       "array(['Low Fat', 'Regular', 'low fat', 'LF', 'reg'], dtype=object)"
      ]
     },
     "execution_count": 53,
     "metadata": {},
     "output_type": "execute_result"
    }
   ],
   "source": [
    "# Item Fat Content \n",
    "\n",
    "newsales.Item_Fat_Content.unique()"
   ]
  },
  {
   "cell_type": "code",
   "execution_count": 54,
   "id": "34b77945",
   "metadata": {},
   "outputs": [],
   "source": [
    "newsales.Item_Fat_Content.replace(to_replace=['LF','low fat','reg'],\n",
    "                                 value = ['Low Fat','Low Fat','Regular'],inplace=True)"
   ]
  },
  {
   "cell_type": "code",
   "execution_count": 56,
   "id": "185b60ad",
   "metadata": {},
   "outputs": [
    {
     "data": {
      "text/html": [
       "<div>\n",
       "<style scoped>\n",
       "    .dataframe tbody tr th:only-of-type {\n",
       "        vertical-align: middle;\n",
       "    }\n",
       "\n",
       "    .dataframe tbody tr th {\n",
       "        vertical-align: top;\n",
       "    }\n",
       "\n",
       "    .dataframe thead th {\n",
       "        text-align: right;\n",
       "    }\n",
       "</style>\n",
       "<table border=\"1\" class=\"dataframe\">\n",
       "  <thead>\n",
       "    <tr style=\"text-align: right;\">\n",
       "      <th></th>\n",
       "      <th>Item_Identifier</th>\n",
       "      <th>Item_Weight</th>\n",
       "      <th>Item_Fat_Content</th>\n",
       "      <th>Item_Visibility</th>\n",
       "      <th>Item_Type</th>\n",
       "      <th>Item_MRP</th>\n",
       "      <th>Outlet_Size</th>\n",
       "      <th>Outlet_Location_Type</th>\n",
       "      <th>Outlet_Type</th>\n",
       "      <th>Item_Outlet_Sales</th>\n",
       "      <th>Item_Type_Percent</th>\n",
       "      <th>Outlet_ID</th>\n",
       "      <th>Item_Type_Cat</th>\n",
       "    </tr>\n",
       "  </thead>\n",
       "  <tbody>\n",
       "    <tr>\n",
       "      <th>0</th>\n",
       "      <td>FD</td>\n",
       "      <td>9.30</td>\n",
       "      <td>Low Fat</td>\n",
       "      <td>0.016047</td>\n",
       "      <td>Dairy</td>\n",
       "      <td>249.8092</td>\n",
       "      <td>Medium</td>\n",
       "      <td>Tier 1</td>\n",
       "      <td>Supermarket Type1</td>\n",
       "      <td>3735.1380</td>\n",
       "      <td>0.080019</td>\n",
       "      <td>1966.1074</td>\n",
       "      <td>Perishables</td>\n",
       "    </tr>\n",
       "    <tr>\n",
       "      <th>1</th>\n",
       "      <td>DR</td>\n",
       "      <td>5.92</td>\n",
       "      <td>Regular</td>\n",
       "      <td>0.019278</td>\n",
       "      <td>Soft Drinks</td>\n",
       "      <td>48.2692</td>\n",
       "      <td>Medium</td>\n",
       "      <td>Tier 3</td>\n",
       "      <td>Supermarket Type2</td>\n",
       "      <td>443.4228</td>\n",
       "      <td>0.052212</td>\n",
       "      <td>1655.1788</td>\n",
       "      <td>Non_Perishables</td>\n",
       "    </tr>\n",
       "  </tbody>\n",
       "</table>\n",
       "</div>"
      ],
      "text/plain": [
       "  Item_Identifier  Item_Weight Item_Fat_Content  Item_Visibility    Item_Type  \\\n",
       "0              FD         9.30          Low Fat         0.016047        Dairy   \n",
       "1              DR         5.92          Regular         0.019278  Soft Drinks   \n",
       "\n",
       "   Item_MRP Outlet_Size Outlet_Location_Type        Outlet_Type  \\\n",
       "0  249.8092      Medium               Tier 1  Supermarket Type1   \n",
       "1   48.2692      Medium               Tier 3  Supermarket Type2   \n",
       "\n",
       "   Item_Outlet_Sales  Item_Type_Percent  Outlet_ID    Item_Type_Cat  \n",
       "0          3735.1380           0.080019  1966.1074      Perishables  \n",
       "1           443.4228           0.052212  1655.1788  Non_Perishables  "
      ]
     },
     "execution_count": 56,
     "metadata": {},
     "output_type": "execute_result"
    }
   ],
   "source": [
    "newsales.head(2)"
   ]
  },
  {
   "cell_type": "code",
   "execution_count": 58,
   "id": "82a3af73",
   "metadata": {},
   "outputs": [
    {
     "data": {
      "image/png": "[encoded data removed]",
      "text/plain": [
       "<Figure size 1080x432 with 1 Axes>"
      ]
     },
     "metadata": {
      "needs_background": "light"
     },
     "output_type": "display_data"
    }
   ],
   "source": [
    "sns.boxplot(newsales.Item_Fat_Content,newsales.Item_Outlet_Sales)\n",
    "plt.show()"
   ]
  },
  {
   "cell_type": "code",
   "execution_count": 61,
   "id": "d536714d",
   "metadata": {
    "scrolled": false
   },
   "outputs": [
    {
     "data": {
      "image/png": "[encoded data removed]",
      "text/plain": [
       "<Figure size 1080x432 with 1 Axes>"
      ]
     },
     "metadata": {
      "needs_background": "light"
     },
     "output_type": "display_data"
    }
   ],
   "source": [
    "sns.violinplot(newsales.Item_Fat_Content,newsales.Item_Outlet_Sales)\n",
    "plt.show()"
   ]
  },
  {
   "cell_type": "code",
   "execution_count": 63,
   "id": "7541c7f0",
   "metadata": {},
   "outputs": [],
   "source": [
    "# Replacing the Item fat content with non edible where the item id is NC.\n",
    "\n",
    "newsales.loc[newsales.Item_Identifier=='NC', 'Item_Fat_Content'] = 'Non Edible'"
   ]
  },
  {
   "cell_type": "code",
   "execution_count": 66,
   "id": "4d24ff32",
   "metadata": {},
   "outputs": [],
   "source": [
    "# Replacing 0s in Item Visibility\n",
    "newsales['Item_Visibility'] = newsales.groupby('Item_Identifier')['Item_Visibility'].transform(lambda\n",
    "                                                                x:x.replace(to_replace = 0, value = x.median()))"
   ]
  },
  {
   "cell_type": "code",
   "execution_count": 68,
   "id": "73cfede8",
   "metadata": {},
   "outputs": [
    {
     "data": {
      "image/png": "[encoded data removed]",
      "text/plain": [
       "<Figure size 1080x432 with 1 Axes>"
      ]
     },
     "metadata": {
      "needs_background": "light"
     },
     "output_type": "display_data"
    }
   ],
   "source": [
    "sns.scatterplot(x='Item_Visibility', y = 'Item_Outlet_Sales',\n",
    "               data = newsales, color = 'magenta')\n",
    "plt.show()"
   ]
  },
  {
   "cell_type": "code",
   "execution_count": 70,
   "id": "4f2e845c",
   "metadata": {},
   "outputs": [
    {
     "data": {
      "text/plain": [
       "Medium    2793\n",
       "Small     2388\n",
       "High       932\n",
       "Name: Outlet_Size, dtype: int64"
      ]
     },
     "execution_count": 70,
     "metadata": {},
     "output_type": "execute_result"
    }
   ],
   "source": [
    "# Impute the Outlet size with Mode\n",
    "newsales.Outlet_Size.value_counts()"
   ]
  },
  {
   "cell_type": "code",
   "execution_count": 84,
   "id": "7e2aa248",
   "metadata": {},
   "outputs": [
    {
     "data": {
      "text/html": [
       "<div>\n",
       "<style scoped>\n",
       "    .dataframe tbody tr th:only-of-type {\n",
       "        vertical-align: middle;\n",
       "    }\n",
       "\n",
       "    .dataframe tbody tr th {\n",
       "        vertical-align: top;\n",
       "    }\n",
       "\n",
       "    .dataframe thead tr th {\n",
       "        text-align: left;\n",
       "    }\n",
       "</style>\n",
       "<table border=\"1\" class=\"dataframe\">\n",
       "  <thead>\n",
       "    <tr>\n",
       "      <th>Outlet_Type</th>\n",
       "      <th colspan=\"2\" halign=\"left\">Grocery Store</th>\n",
       "      <th colspan=\"3\" halign=\"left\">Supermarket Type1</th>\n",
       "      <th>Supermarket Type2</th>\n",
       "      <th>Supermarket Type3</th>\n",
       "    </tr>\n",
       "    <tr>\n",
       "      <th>Outlet_Location_Type</th>\n",
       "      <th>Tier 1</th>\n",
       "      <th>Tier 3</th>\n",
       "      <th>Tier 1</th>\n",
       "      <th>Tier 2</th>\n",
       "      <th>Tier 3</th>\n",
       "      <th>Tier 3</th>\n",
       "      <th>Tier 3</th>\n",
       "    </tr>\n",
       "  </thead>\n",
       "  <tbody>\n",
       "    <tr>\n",
       "      <th>Outlet_Type</th>\n",
       "      <td>528</td>\n",
       "      <td>555</td>\n",
       "      <td>1860</td>\n",
       "      <td>2785</td>\n",
       "      <td>932</td>\n",
       "      <td>928</td>\n",
       "      <td>935</td>\n",
       "    </tr>\n",
       "  </tbody>\n",
       "</table>\n",
       "</div>"
      ],
      "text/plain": [
       "Outlet_Type          Grocery Store        Supermarket Type1                \\\n",
       "Outlet_Location_Type        Tier 1 Tier 3            Tier 1 Tier 2 Tier 3   \n",
       "Outlet_Type                    528    555              1860   2785    932   \n",
       "\n",
       "Outlet_Type          Supermarket Type2 Supermarket Type3  \n",
       "Outlet_Location_Type            Tier 3            Tier 3  \n",
       "Outlet_Type                        928               935  "
      ]
     },
     "execution_count": 84,
     "metadata": {},
     "output_type": "execute_result"
    }
   ],
   "source": [
    "pd.DataFrame(newsales.groupby(['Outlet_Type','Outlet_Location_Type'])['Outlet_Type'].count()).T"
   ]
  },
  {
   "cell_type": "code",
   "execution_count": 82,
   "id": "1d8e576b",
   "metadata": {},
   "outputs": [
    {
     "data": {
      "text/html": [
       "<div>\n",
       "<style scoped>\n",
       "    .dataframe tbody tr th:only-of-type {\n",
       "        vertical-align: middle;\n",
       "    }\n",
       "\n",
       "    .dataframe tbody tr th {\n",
       "        vertical-align: top;\n",
       "    }\n",
       "\n",
       "    .dataframe thead tr th {\n",
       "        text-align: left;\n",
       "    }\n",
       "</style>\n",
       "<table border=\"1\" class=\"dataframe\">\n",
       "  <thead>\n",
       "    <tr>\n",
       "      <th>Outlet_Size</th>\n",
       "      <th>High</th>\n",
       "      <th colspan=\"2\" halign=\"left\">Medium</th>\n",
       "      <th colspan=\"2\" halign=\"left\">Small</th>\n",
       "    </tr>\n",
       "    <tr>\n",
       "      <th>Outlet_Location_Type</th>\n",
       "      <th>Tier 3</th>\n",
       "      <th>Tier 1</th>\n",
       "      <th>Tier 3</th>\n",
       "      <th>Tier 1</th>\n",
       "      <th>Tier 2</th>\n",
       "    </tr>\n",
       "  </thead>\n",
       "  <tbody>\n",
       "    <tr>\n",
       "      <th>Outlet_Type</th>\n",
       "      <td>932</td>\n",
       "      <td>930</td>\n",
       "      <td>1863</td>\n",
       "      <td>1458</td>\n",
       "      <td>930</td>\n",
       "    </tr>\n",
       "  </tbody>\n",
       "</table>\n",
       "</div>"
      ],
      "text/plain": [
       "Outlet_Size            High Medium         Small       \n",
       "Outlet_Location_Type Tier 3 Tier 1 Tier 3 Tier 1 Tier 2\n",
       "Outlet_Type             932    930   1863   1458    930"
      ]
     },
     "execution_count": 82,
     "metadata": {},
     "output_type": "execute_result"
    }
   ],
   "source": [
    "pd.DataFrame(newsales.groupby(['Outlet_Size','Outlet_Location_Type'])['Outlet_Type'].count()).T"
   ]
  },
  {
   "cell_type": "code",
   "execution_count": 88,
   "id": "9ff7b616",
   "metadata": {},
   "outputs": [],
   "source": [
    "# Mode Impuatation \n",
    "value = newsales.Outlet_Size.mode()[0]\n",
    "newsales.Outlet_Size.fillna(value, inplace = True)"
   ]
  },
  {
   "cell_type": "code",
   "execution_count": 89,
   "id": "651dc7e4",
   "metadata": {},
   "outputs": [],
   "source": [
    "# Print all the sales value where the Standard Deviation is > 2.\n",
    "\n",
    "def zscore(x):\n",
    "    avg = x.mean()\n",
    "    std = x.std()\n",
    "    zscore = (x-avg)/std\n",
    "    return(zscore)"
   ]
  },
  {
   "cell_type": "code",
   "execution_count": 90,
   "id": "f688b31e",
   "metadata": {},
   "outputs": [],
   "source": [
    "newsales['z_sales'] = zscore(sales.Item_Outlet_Sales)"
   ]
  },
  {
   "cell_type": "code",
   "execution_count": 92,
   "id": "2267e61f",
   "metadata": {},
   "outputs": [
    {
     "data": {
      "text/plain": [
       "43      6768.5228\n",
       "47      5815.0972\n",
       "55      6258.5200\n",
       "115     5942.2650\n",
       "130     7968.2944\n",
       "          ...    \n",
       "8350    7240.5750\n",
       "8395    5992.2000\n",
       "8447    7588.1226\n",
       "8485    6261.8490\n",
       "8510    7182.6504\n",
       "Name: Item_Outlet_Sales, Length: 405, dtype: float64"
      ]
     },
     "execution_count": 92,
     "metadata": {},
     "output_type": "execute_result"
    }
   ],
   "source": [
    "newsales.loc[newsales['z_sales'] > 2, 'Item_Outlet_Sales']"
   ]
  },
  {
   "cell_type": "code",
   "execution_count": 93,
   "id": "6cf6689c",
   "metadata": {},
   "outputs": [
    {
     "data": {
      "text/html": [
       "<div>\n",
       "<style scoped>\n",
       "    .dataframe tbody tr th:only-of-type {\n",
       "        vertical-align: middle;\n",
       "    }\n",
       "\n",
       "    .dataframe tbody tr th {\n",
       "        vertical-align: top;\n",
       "    }\n",
       "\n",
       "    .dataframe thead th {\n",
       "        text-align: right;\n",
       "    }\n",
       "</style>\n",
       "<table border=\"1\" class=\"dataframe\">\n",
       "  <thead>\n",
       "    <tr style=\"text-align: right;\">\n",
       "      <th></th>\n",
       "      <th>Item_Identifier</th>\n",
       "      <th>Item_Weight</th>\n",
       "      <th>Item_Fat_Content</th>\n",
       "      <th>Item_Visibility</th>\n",
       "      <th>Item_Type</th>\n",
       "      <th>Item_MRP</th>\n",
       "      <th>Outlet_Size</th>\n",
       "      <th>Outlet_Location_Type</th>\n",
       "      <th>Outlet_Type</th>\n",
       "      <th>Item_Outlet_Sales</th>\n",
       "      <th>Item_Type_Percent</th>\n",
       "      <th>Outlet_ID</th>\n",
       "      <th>Item_Type_Cat</th>\n",
       "      <th>z_sales</th>\n",
       "    </tr>\n",
       "  </thead>\n",
       "  <tbody>\n",
       "    <tr>\n",
       "      <th>0</th>\n",
       "      <td>FD</td>\n",
       "      <td>9.30</td>\n",
       "      <td>Low Fat</td>\n",
       "      <td>0.016047</td>\n",
       "      <td>Dairy</td>\n",
       "      <td>249.8092</td>\n",
       "      <td>Medium</td>\n",
       "      <td>Tier 1</td>\n",
       "      <td>Supermarket Type1</td>\n",
       "      <td>3735.1380</td>\n",
       "      <td>0.080019</td>\n",
       "      <td>1966.1074</td>\n",
       "      <td>Perishables</td>\n",
       "      <td>0.910548</td>\n",
       "    </tr>\n",
       "    <tr>\n",
       "      <th>1</th>\n",
       "      <td>DR</td>\n",
       "      <td>5.92</td>\n",
       "      <td>Regular</td>\n",
       "      <td>0.019278</td>\n",
       "      <td>Soft Drinks</td>\n",
       "      <td>48.2692</td>\n",
       "      <td>Medium</td>\n",
       "      <td>Tier 3</td>\n",
       "      <td>Supermarket Type2</td>\n",
       "      <td>443.4228</td>\n",
       "      <td>0.052212</td>\n",
       "      <td>1655.1788</td>\n",
       "      <td>Non_Perishables</td>\n",
       "      <td>-1.018381</td>\n",
       "    </tr>\n",
       "    <tr>\n",
       "      <th>2</th>\n",
       "      <td>FD</td>\n",
       "      <td>17.50</td>\n",
       "      <td>Low Fat</td>\n",
       "      <td>0.016760</td>\n",
       "      <td>Meat</td>\n",
       "      <td>141.6180</td>\n",
       "      <td>Medium</td>\n",
       "      <td>Tier 1</td>\n",
       "      <td>Supermarket Type1</td>\n",
       "      <td>2097.2700</td>\n",
       "      <td>0.049865</td>\n",
       "      <td>1966.1074</td>\n",
       "      <td>Perishables</td>\n",
       "      <td>-0.049235</td>\n",
       "    </tr>\n",
       "    <tr>\n",
       "      <th>3</th>\n",
       "      <td>FD</td>\n",
       "      <td>19.20</td>\n",
       "      <td>Regular</td>\n",
       "      <td>0.056406</td>\n",
       "      <td>Fruits and Vegetables</td>\n",
       "      <td>182.0950</td>\n",
       "      <td>Medium</td>\n",
       "      <td>Tier 3</td>\n",
       "      <td>Grocery Store</td>\n",
       "      <td>732.3800</td>\n",
       "      <td>0.144550</td>\n",
       "      <td>250.3408</td>\n",
       "      <td>Perishables</td>\n",
       "      <td>-0.849053</td>\n",
       "    </tr>\n",
       "    <tr>\n",
       "      <th>4</th>\n",
       "      <td>NC</td>\n",
       "      <td>8.93</td>\n",
       "      <td>Non Edible</td>\n",
       "      <td>0.044999</td>\n",
       "      <td>Household</td>\n",
       "      <td>53.8614</td>\n",
       "      <td>High</td>\n",
       "      <td>Tier 3</td>\n",
       "      <td>Supermarket Type1</td>\n",
       "      <td>994.7052</td>\n",
       "      <td>0.106770</td>\n",
       "      <td>2050.6640</td>\n",
       "      <td>Non_Perishables</td>\n",
       "      <td>-0.695332</td>\n",
       "    </tr>\n",
       "  </tbody>\n",
       "</table>\n",
       "</div>"
      ],
      "text/plain": [
       "  Item_Identifier  Item_Weight Item_Fat_Content  Item_Visibility  \\\n",
       "0              FD         9.30          Low Fat         0.016047   \n",
       "1              DR         5.92          Regular         0.019278   \n",
       "2              FD        17.50          Low Fat         0.016760   \n",
       "3              FD        19.20          Regular         0.056406   \n",
       "4              NC         8.93       Non Edible         0.044999   \n",
       "\n",
       "               Item_Type  Item_MRP Outlet_Size Outlet_Location_Type  \\\n",
       "0                  Dairy  249.8092      Medium               Tier 1   \n",
       "1            Soft Drinks   48.2692      Medium               Tier 3   \n",
       "2                   Meat  141.6180      Medium               Tier 1   \n",
       "3  Fruits and Vegetables  182.0950      Medium               Tier 3   \n",
       "4              Household   53.8614        High               Tier 3   \n",
       "\n",
       "         Outlet_Type  Item_Outlet_Sales  Item_Type_Percent  Outlet_ID  \\\n",
       "0  Supermarket Type1          3735.1380           0.080019  1966.1074   \n",
       "1  Supermarket Type2           443.4228           0.052212  1655.1788   \n",
       "2  Supermarket Type1          2097.2700           0.049865  1966.1074   \n",
       "3      Grocery Store           732.3800           0.144550   250.3408   \n",
       "4  Supermarket Type1           994.7052           0.106770  2050.6640   \n",
       "\n",
       "     Item_Type_Cat   z_sales  \n",
       "0      Perishables  0.910548  \n",
       "1  Non_Perishables -1.018381  \n",
       "2      Perishables -0.049235  \n",
       "3      Perishables -0.849053  \n",
       "4  Non_Perishables -0.695332  "
      ]
     },
     "execution_count": 93,
     "metadata": {},
     "output_type": "execute_result"
    }
   ],
   "source": [
    "newsales.head()"
   ]
  },
  {
   "cell_type": "markdown",
   "id": "a2d94903",
   "metadata": {},
   "source": [
    "## Outlier Removal :"
   ]
  },
  {
   "cell_type": "code",
   "execution_count": 94,
   "id": "be09be67",
   "metadata": {},
   "outputs": [
    {
     "data": {
      "text/plain": [
       "<AxesSubplot:>"
      ]
     },
     "execution_count": 94,
     "metadata": {},
     "output_type": "execute_result"
    },
    {
     "data": {
      "image/png": "[encoded data removed]",
      "text/plain": [
       "<Figure size 1080x432 with 1 Axes>"
      ]
     },
     "metadata": {
      "needs_background": "light"
     },
     "output_type": "display_data"
    }
   ],
   "source": [
    "newsales.plot(kind = 'box')"
   ]
  },
  {
   "cell_type": "markdown",
   "id": "1c35e936",
   "metadata": {},
   "source": [
    "* Using BoxPlot :: **Any value > Q3+1.5 * IOR**    or    **Any value < Q1-1.5*IOR** is known as Outlier.\n",
    "* Using Z score :: If **Z score is >3** or **Z score is < -3** is termed as Outlier"
   ]
  },
  {
   "cell_type": "markdown",
   "id": "d5af879d",
   "metadata": {},
   "source": [
    "### Using IOR :"
   ]
  },
  {
   "cell_type": "code",
   "execution_count": 105,
   "id": "e204d706",
   "metadata": {},
   "outputs": [],
   "source": [
    "# Calculate the IQR and other Quantiles.\n",
    "\n",
    "q1 = newsales.quantile(0.25)\n",
    "q3 = newsales.quantile(0.75)\n",
    "iqr = q3 - q1\n",
    "\n",
    "upper_lim = q3+1.5*iqr\n",
    "lower_lim = q1-1.5*iqr"
   ]
  },
  {
   "cell_type": "code",
   "execution_count": 117,
   "id": "6c0a785f",
   "metadata": {},
   "outputs": [
    {
     "data": {
      "text/html": [
       "<div>\n",
       "<style scoped>\n",
       "    .dataframe tbody tr th:only-of-type {\n",
       "        vertical-align: middle;\n",
       "    }\n",
       "\n",
       "    .dataframe tbody tr th {\n",
       "        vertical-align: top;\n",
       "    }\n",
       "\n",
       "    .dataframe thead th {\n",
       "        text-align: right;\n",
       "    }\n",
       "</style>\n",
       "<table border=\"1\" class=\"dataframe\">\n",
       "  <thead>\n",
       "    <tr style=\"text-align: right;\">\n",
       "      <th></th>\n",
       "      <th>Item_Identifier</th>\n",
       "      <th>Item_Weight</th>\n",
       "      <th>Item_Fat_Content</th>\n",
       "      <th>Item_Visibility</th>\n",
       "      <th>Item_Type</th>\n",
       "      <th>Item_MRP</th>\n",
       "      <th>Outlet_Size</th>\n",
       "      <th>Outlet_Location_Type</th>\n",
       "      <th>Outlet_Type</th>\n",
       "      <th>Item_Outlet_Sales</th>\n",
       "      <th>Item_Type_Percent</th>\n",
       "      <th>Outlet_ID</th>\n",
       "      <th>Item_Type_Cat</th>\n",
       "      <th>z_sales</th>\n",
       "    </tr>\n",
       "  </thead>\n",
       "  <tbody>\n",
       "    <tr>\n",
       "      <th>0</th>\n",
       "      <td>FD</td>\n",
       "      <td>9.300</td>\n",
       "      <td>Low Fat</td>\n",
       "      <td>0.016047</td>\n",
       "      <td>Dairy</td>\n",
       "      <td>249.8092</td>\n",
       "      <td>Medium</td>\n",
       "      <td>Tier 1</td>\n",
       "      <td>Supermarket Type1</td>\n",
       "      <td>3735.1380</td>\n",
       "      <td>0.080019</td>\n",
       "      <td>1966.1074</td>\n",
       "      <td>Perishables</td>\n",
       "      <td>0.910548</td>\n",
       "    </tr>\n",
       "    <tr>\n",
       "      <th>1</th>\n",
       "      <td>DR</td>\n",
       "      <td>5.920</td>\n",
       "      <td>Regular</td>\n",
       "      <td>0.019278</td>\n",
       "      <td>Soft Drinks</td>\n",
       "      <td>48.2692</td>\n",
       "      <td>Medium</td>\n",
       "      <td>Tier 3</td>\n",
       "      <td>Supermarket Type2</td>\n",
       "      <td>443.4228</td>\n",
       "      <td>0.052212</td>\n",
       "      <td>1655.1788</td>\n",
       "      <td>Non_Perishables</td>\n",
       "      <td>-1.018381</td>\n",
       "    </tr>\n",
       "    <tr>\n",
       "      <th>2</th>\n",
       "      <td>FD</td>\n",
       "      <td>17.500</td>\n",
       "      <td>Low Fat</td>\n",
       "      <td>0.016760</td>\n",
       "      <td>Meat</td>\n",
       "      <td>141.6180</td>\n",
       "      <td>Medium</td>\n",
       "      <td>Tier 1</td>\n",
       "      <td>Supermarket Type1</td>\n",
       "      <td>2097.2700</td>\n",
       "      <td>0.049865</td>\n",
       "      <td>1966.1074</td>\n",
       "      <td>Perishables</td>\n",
       "      <td>-0.049235</td>\n",
       "    </tr>\n",
       "    <tr>\n",
       "      <th>4</th>\n",
       "      <td>NC</td>\n",
       "      <td>8.930</td>\n",
       "      <td>Non Edible</td>\n",
       "      <td>0.044999</td>\n",
       "      <td>Household</td>\n",
       "      <td>53.8614</td>\n",
       "      <td>High</td>\n",
       "      <td>Tier 3</td>\n",
       "      <td>Supermarket Type1</td>\n",
       "      <td>994.7052</td>\n",
       "      <td>0.106770</td>\n",
       "      <td>2050.6640</td>\n",
       "      <td>Non_Perishables</td>\n",
       "      <td>-0.695332</td>\n",
       "    </tr>\n",
       "    <tr>\n",
       "      <th>5</th>\n",
       "      <td>FD</td>\n",
       "      <td>10.395</td>\n",
       "      <td>Regular</td>\n",
       "      <td>0.056406</td>\n",
       "      <td>Baking Goods</td>\n",
       "      <td>51.4008</td>\n",
       "      <td>Medium</td>\n",
       "      <td>Tier 3</td>\n",
       "      <td>Supermarket Type2</td>\n",
       "      <td>556.6088</td>\n",
       "      <td>0.076030</td>\n",
       "      <td>1655.1788</td>\n",
       "      <td>Non_Perishables</td>\n",
       "      <td>-0.952054</td>\n",
       "    </tr>\n",
       "    <tr>\n",
       "      <th>...</th>\n",
       "      <td>...</td>\n",
       "      <td>...</td>\n",
       "      <td>...</td>\n",
       "      <td>...</td>\n",
       "      <td>...</td>\n",
       "      <td>...</td>\n",
       "      <td>...</td>\n",
       "      <td>...</td>\n",
       "      <td>...</td>\n",
       "      <td>...</td>\n",
       "      <td>...</td>\n",
       "      <td>...</td>\n",
       "      <td>...</td>\n",
       "      <td>...</td>\n",
       "    </tr>\n",
       "    <tr>\n",
       "      <th>8518</th>\n",
       "      <td>FD</td>\n",
       "      <td>6.865</td>\n",
       "      <td>Low Fat</td>\n",
       "      <td>0.056783</td>\n",
       "      <td>Snack Foods</td>\n",
       "      <td>214.5218</td>\n",
       "      <td>High</td>\n",
       "      <td>Tier 3</td>\n",
       "      <td>Supermarket Type1</td>\n",
       "      <td>2778.3834</td>\n",
       "      <td>0.140795</td>\n",
       "      <td>2050.6640</td>\n",
       "      <td>Non_Perishables</td>\n",
       "      <td>0.349894</td>\n",
       "    </tr>\n",
       "    <tr>\n",
       "      <th>8519</th>\n",
       "      <td>FD</td>\n",
       "      <td>8.380</td>\n",
       "      <td>Regular</td>\n",
       "      <td>0.046982</td>\n",
       "      <td>Baking Goods</td>\n",
       "      <td>108.1570</td>\n",
       "      <td>Medium</td>\n",
       "      <td>Tier 2</td>\n",
       "      <td>Supermarket Type1</td>\n",
       "      <td>549.2850</td>\n",
       "      <td>0.076030</td>\n",
       "      <td>1834.9448</td>\n",
       "      <td>Non_Perishables</td>\n",
       "      <td>-0.956346</td>\n",
       "    </tr>\n",
       "    <tr>\n",
       "      <th>8520</th>\n",
       "      <td>NC</td>\n",
       "      <td>10.600</td>\n",
       "      <td>Non Edible</td>\n",
       "      <td>0.035186</td>\n",
       "      <td>Health and Hygiene</td>\n",
       "      <td>85.1224</td>\n",
       "      <td>Small</td>\n",
       "      <td>Tier 2</td>\n",
       "      <td>Supermarket Type1</td>\n",
       "      <td>1193.1136</td>\n",
       "      <td>0.061011</td>\n",
       "      <td>2109.2544</td>\n",
       "      <td>Non_Perishables</td>\n",
       "      <td>-0.579066</td>\n",
       "    </tr>\n",
       "    <tr>\n",
       "      <th>8521</th>\n",
       "      <td>FD</td>\n",
       "      <td>7.210</td>\n",
       "      <td>Regular</td>\n",
       "      <td>0.145221</td>\n",
       "      <td>Snack Foods</td>\n",
       "      <td>103.1332</td>\n",
       "      <td>Medium</td>\n",
       "      <td>Tier 3</td>\n",
       "      <td>Supermarket Type2</td>\n",
       "      <td>1845.5976</td>\n",
       "      <td>0.140795</td>\n",
       "      <td>1655.1788</td>\n",
       "      <td>Non_Perishables</td>\n",
       "      <td>-0.196713</td>\n",
       "    </tr>\n",
       "    <tr>\n",
       "      <th>8522</th>\n",
       "      <td>DR</td>\n",
       "      <td>14.800</td>\n",
       "      <td>Low Fat</td>\n",
       "      <td>0.044878</td>\n",
       "      <td>Soft Drinks</td>\n",
       "      <td>75.4670</td>\n",
       "      <td>Small</td>\n",
       "      <td>Tier 1</td>\n",
       "      <td>Supermarket Type1</td>\n",
       "      <td>765.6700</td>\n",
       "      <td>0.052212</td>\n",
       "      <td>1945.8005</td>\n",
       "      <td>Non_Perishables</td>\n",
       "      <td>-0.829545</td>\n",
       "    </tr>\n",
       "  </tbody>\n",
       "</table>\n",
       "<p>6416 rows × 14 columns</p>\n",
       "</div>"
      ],
      "text/plain": [
       "     Item_Identifier  Item_Weight Item_Fat_Content  Item_Visibility  \\\n",
       "0                 FD        9.300          Low Fat         0.016047   \n",
       "1                 DR        5.920          Regular         0.019278   \n",
       "2                 FD       17.500          Low Fat         0.016760   \n",
       "4                 NC        8.930       Non Edible         0.044999   \n",
       "5                 FD       10.395          Regular         0.056406   \n",
       "...              ...          ...              ...              ...   \n",
       "8518              FD        6.865          Low Fat         0.056783   \n",
       "8519              FD        8.380          Regular         0.046982   \n",
       "8520              NC       10.600       Non Edible         0.035186   \n",
       "8521              FD        7.210          Regular         0.145221   \n",
       "8522              DR       14.800          Low Fat         0.044878   \n",
       "\n",
       "               Item_Type  Item_MRP Outlet_Size Outlet_Location_Type  \\\n",
       "0                  Dairy  249.8092      Medium               Tier 1   \n",
       "1            Soft Drinks   48.2692      Medium               Tier 3   \n",
       "2                   Meat  141.6180      Medium               Tier 1   \n",
       "4              Household   53.8614        High               Tier 3   \n",
       "5           Baking Goods   51.4008      Medium               Tier 3   \n",
       "...                  ...       ...         ...                  ...   \n",
       "8518         Snack Foods  214.5218        High               Tier 3   \n",
       "8519        Baking Goods  108.1570      Medium               Tier 2   \n",
       "8520  Health and Hygiene   85.1224       Small               Tier 2   \n",
       "8521         Snack Foods  103.1332      Medium               Tier 3   \n",
       "8522         Soft Drinks   75.4670       Small               Tier 1   \n",
       "\n",
       "            Outlet_Type  Item_Outlet_Sales  Item_Type_Percent  Outlet_ID  \\\n",
       "0     Supermarket Type1          3735.1380           0.080019  1966.1074   \n",
       "1     Supermarket Type2           443.4228           0.052212  1655.1788   \n",
       "2     Supermarket Type1          2097.2700           0.049865  1966.1074   \n",
       "4     Supermarket Type1           994.7052           0.106770  2050.6640   \n",
       "5     Supermarket Type2           556.6088           0.076030  1655.1788   \n",
       "...                 ...                ...                ...        ...   \n",
       "8518  Supermarket Type1          2778.3834           0.140795  2050.6640   \n",
       "8519  Supermarket Type1           549.2850           0.076030  1834.9448   \n",
       "8520  Supermarket Type1          1193.1136           0.061011  2109.2544   \n",
       "8521  Supermarket Type2          1845.5976           0.140795  1655.1788   \n",
       "8522  Supermarket Type1           765.6700           0.052212  1945.8005   \n",
       "\n",
       "        Item_Type_Cat   z_sales  \n",
       "0         Perishables  0.910548  \n",
       "1     Non_Perishables -1.018381  \n",
       "2         Perishables -0.049235  \n",
       "4     Non_Perishables -0.695332  \n",
       "5     Non_Perishables -0.952054  \n",
       "...               ...       ...  \n",
       "8518  Non_Perishables  0.349894  \n",
       "8519  Non_Perishables -0.956346  \n",
       "8520  Non_Perishables -0.579066  \n",
       "8521  Non_Perishables -0.196713  \n",
       "8522  Non_Perishables -0.829545  \n",
       "\n",
       "[6416 rows x 14 columns]"
      ]
     },
     "execution_count": 117,
     "metadata": {},
     "output_type": "execute_result"
    }
   ],
   "source": [
    "# Condition.\n",
    "\n",
    "newsales.loc[~((newsales < lower_lim) | (newsales > upper_lim)).any(axis = 1)]\n",
    "\n",
    "# if \"~\" is not applied will give Outlier Data.\n",
    "# .any(axis = 1) : returns any row where the condition are met\n",
    "# \" | \" : Either or that means if the conditions are met either in lower limit or upper limit."
   ]
  },
  {
   "cell_type": "markdown",
   "id": "31bc42b2",
   "metadata": {},
   "source": [
    "### Using Z score :\n",
    "1. Convert the Data into Z score values using standardsacler/fn.\n",
    "2. Find the outliers and eliminate them."
   ]
  },
  {
   "cell_type": "code",
   "execution_count": 126,
   "id": "95d99c4b",
   "metadata": {},
   "outputs": [],
   "source": [
    "from sklearn.preprocessing import StandardScaler, MinMaxScaler\n",
    "sc = StandardScaler()"
   ]
  },
  {
   "cell_type": "code",
   "execution_count": 125,
   "id": "eea3dbf5",
   "metadata": {},
   "outputs": [
    {
     "data": {
      "text/plain": [
       "Index(['Item_Weight', 'Item_Visibility', 'Item_MRP', 'Item_Outlet_Sales',\n",
       "       'Item_Type_Percent', 'Outlet_ID', 'z_sales'],\n",
       "      dtype='object')"
      ]
     },
     "execution_count": 125,
     "metadata": {},
     "output_type": "execute_result"
    }
   ],
   "source": [
    "# Fetch the list of Num variable only.\n",
    "newsales.select_dtypes(include=np.number).columns"
   ]
  },
  {
   "cell_type": "code",
   "execution_count": 129,
   "id": "8ffbd1d1",
   "metadata": {},
   "outputs": [],
   "source": [
    "cols = ['Item_Weight','Item_Visibility', 'Item_MRP', 'Item_Outlet_Sales','Outlet_ID']\n",
    "\n",
    "for i in cols:\n",
    "    newsales.loc[:,i] = sc.fit_transform(pd.DataFrame(newsales.loc[:,i]))"
   ]
  },
  {
   "cell_type": "code",
   "execution_count": 134,
   "id": "53e9ee2d",
   "metadata": {},
   "outputs": [],
   "source": [
    "# Dropping unnecessary variables\n",
    "newsales.drop(['Item_Type','z_sales'],axis = 1,inplace =True)"
   ]
  },
  {
   "cell_type": "code",
   "execution_count": 141,
   "id": "a46dc09a",
   "metadata": {},
   "outputs": [],
   "source": [
    "# Apply one hot encoding with drop_first = True\n",
    "finaldata = pd.get_dummies(newsales,drop_first = True)"
   ]
  },
  {
   "cell_type": "code",
   "execution_count": 143,
   "id": "d3860898",
   "metadata": {},
   "outputs": [
    {
     "data": {
      "text/plain": [
       "(8333, 18)"
      ]
     },
     "execution_count": 143,
     "metadata": {},
     "output_type": "execute_result"
    }
   ],
   "source": [
    "# Applying -3 and +3 sigma condition for outlier removal\n",
    "finaldata.loc[~((finaldata < -3) | (finaldata > 3)).any(axis = 1)].shape"
   ]
  },
  {
   "cell_type": "markdown",
   "id": "8ae7cbb2",
   "metadata": {},
   "source": [
    "## Train Test Split :"
   ]
  },
  {
   "cell_type": "code",
   "execution_count": 144,
   "id": "a52e4042",
   "metadata": {},
   "outputs": [],
   "source": [
    "# Library to Import Train and Test Split\n",
    "\n",
    "from sklearn.model_selection import train_test_split"
   ]
  },
  {
   "cell_type": "code",
   "execution_count": 147,
   "id": "f6c5040e",
   "metadata": {},
   "outputs": [],
   "source": [
    "# Split the Data in X and Y.\n",
    "X = sales.drop('Item_Outlet_Sales',axis = 1)\n",
    "y = sales.Item_Outlet_Sales"
   ]
  },
  {
   "cell_type": "code",
   "execution_count": 148,
   "id": "b34e4714",
   "metadata": {},
   "outputs": [],
   "source": [
    "# Split the X and y in train and test\n",
    "\n",
    "xtrain, xtest ,ytrain, ytest = train_test_split(X, y, test_size = 0.20, random_state = 0)\n",
    "\n",
    "# random_state works as seed parameter."
   ]
  },
  {
   "cell_type": "code",
   "execution_count": 150,
   "id": "d6fde68a",
   "metadata": {},
   "outputs": [
    {
     "name": "stdout",
     "output_type": "stream",
     "text": [
      "(6818, 14)\n",
      "(6818,)\n",
      "(1705, 14)\n",
      "(1705,)\n"
     ]
    }
   ],
   "source": [
    "print(xtrain.shape)\n",
    "print(ytrain.shape)\n",
    "print(xtest.shape)\n",
    "print(ytest.shape)"
   ]
  },
  {
   "cell_type": "markdown",
   "id": "26c1410a",
   "metadata": {},
   "source": [
    "### Transformation :\n",
    "* Log Transformation - It does not work on 0 or -ve variable.\n",
    "* Square Root Transformation - It cannot work on -ve numbers.\n",
    "* Power Transformation (1/x) - It cannot work on 0s.\n",
    "* Boxcox Tranformation - Only +ve numbers. (Not even 0)\n",
    "* Yeo Johnson Transformation - Can work on any numbers. (+ve or -ve)\n",
    "\n",
    "Remember that the purpose of the tranformation is to reduce the skewness and trying to make the data normal.\n",
    "\n",
    "You cannot make the data perfectly normal, however you can reduce the skewness a little bit."
   ]
  },
  {
   "cell_type": "raw",
   "id": "d88587cb",
   "metadata": {},
   "source": [
    "# Apply the transformation and check the skewness post transformation.\n",
    "\n",
    "import scipy.stats as stats\n",
    "\n",
    "print('Before Transformation : ',sales.Item_Outlet_Sales.skew())\n",
    "print('After Transformation : ',np.log(sales.Item_Outlet_Sales).skew())  "
   ]
  },
  {
   "cell_type": "raw",
   "id": "e29ede9e",
   "metadata": {},
   "source": [
    "# Square root transformation. \n",
    "\n",
    "print('Before Transformation : ',sales.Item_Outlet_Sales.skew())\n",
    "print('After Transformation : ',np.sqrt(sales.Item_Outlet_Sales).skew())"
   ]
  },
  {
   "cell_type": "raw",
   "id": "82908df0",
   "metadata": {},
   "source": [
    "# Power Transformation.\n",
    "\n",
    "print('Before Transformation : ',sales.Item_Outlet_Sales.skew())\n",
    "print('After Transformation : ',(1/sales.Item_Outlet_Sales).skew())\n",
    "\n",
    "\n",
    "# If data is negatively skewed, we can try power transformation to reduce the skewness in the -ve direction."
   ]
  },
  {
   "cell_type": "raw",
   "id": "362832f5",
   "metadata": {},
   "source": [
    "# Box Cox Transformation :\n",
    "\n",
    "print('Before Transformation : ',sales.Item_Outlet_Sales.skew())\n",
    "print('After Transformation : ',pd.Series(stats.boxcox(sales.Item_Outlet_Sales)[0]).skew())"
   ]
  },
  {
   "cell_type": "raw",
   "id": "81813688",
   "metadata": {},
   "source": [
    "# Yeo Johnson Transformation :\n",
    "\n",
    "print('Before Transformation : ',sales.Item_Outlet_Sales.skew())\n",
    "print('After Transformation : ',pd.Series(stats.yeojohnson(sales.Item_Outlet_Sales)[0]).skew())"
   ]
  },
  {
   "cell_type": "markdown",
   "id": "7b4b0268",
   "metadata": {},
   "source": [
    "### Summary :\n",
    "* Log transformation, boxcox and yeo johnson returned -ve tranformation.\n",
    "* Square root reduced the skewness for the target variable.\n",
    "* In power transformation, it increases the skewness and seems like it is a good fit for -vely skewed data.\n",
    "\n",
    "Note : The purpose of the Transformation is to reduce the skewness. So, if the data is quite close to Normal, then we skip this step\n",
    "and directly build the model."
   ]
  },
  {
   "cell_type": "raw",
   "id": "a069cfda",
   "metadata": {},
   "source": [
    "sns.distplot(sales.Item_Outlet_Sales, kde=True, hist=False, color='magenta')\n",
    "\n",
    "plt.title('Before Sqrt Transformation')\n",
    "plt.show()"
   ]
  },
  {
   "cell_type": "raw",
   "id": "9c9e0979",
   "metadata": {},
   "source": [
    "sns.distplot(np.sqrt(sales.Item_Outlet_Sales), kde=True, hist=False, color='green')\n",
    "\n",
    "plt.title('Sqrt Transformation')\n",
    "plt.show()"
   ]
  },
  {
   "cell_type": "code",
   "execution_count": null,
   "id": "9e795cfa",
   "metadata": {},
   "outputs": [],
   "source": [
    "X = "
   ]
  }
 ],
 "metadata": {
  "kernelspec": {
   "display_name": "Python 3 (ipykernel)",
   "language": "python",
   "name": "python3"
  },
  "language_info": {
   "codemirror_mode": {
    "name": "ipython",
    "version": 3
   },
   "file_extension": ".py",
   "mimetype": "text/x-python",
   "name": "python",
   "nbconvert_exporter": "python",
   "pygments_lexer": "ipython3",
   "version": "3.9.12"
  }
 },
 "nbformat": 4,
 "nbformat_minor": 5
}
